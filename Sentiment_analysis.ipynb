{
 "cells": [
  {
   "cell_type": "code",
   "execution_count": null,
   "id": "81d062b2",
   "metadata": {},
   "outputs": [],
   "source": [
    "import pandas as pd\n",
    "import gzip\n",
    "import json\n",
    "import ast\n",
    "import polars as pl\n",
    "from datetime import datetime\n",
    "import torch, itertools, os\n",
    "from transformers import AutoTokenizer, AutoModelForSequenceClassification"
   ]
  },
  {
   "cell_type": "code",
   "execution_count": null,
   "id": "bb686692",
   "metadata": {},
   "outputs": [
    {
     "name": "stdout",
     "output_type": "stream",
     "text": [
      "   rating                                        title  \\\n",
      "0       3            Smells like gasoline! Going back!   \n",
      "1       1      Didn’t work at all lenses loose/broken.   \n",
      "2       5                                   Excellent!   \n",
      "3       5                       Great laptop backpack!   \n",
      "4       5  Best Headphones in the Fifties price range!   \n",
      "\n",
      "                                                text  \\\n",
      "0  First & most offensive: they reek of gasoline ...   \n",
      "1  These didn’t work. Idk if they were damaged in...   \n",
      "2  I love these. They even come with a carry case...   \n",
      "3  I was searching for a sturdy backpack for scho...   \n",
      "4  I've bought these headphones three times becau...   \n",
      "\n",
      "                                              images        asin parent_asin  \\\n",
      "0  [{'small_image_url': 'https://m.media-amazon.c...  B083NRGZMM  B083NRGZMM   \n",
      "1                                                 []  B07N69T6TM  B07N69T6TM   \n",
      "2                                                 []  B01G8JO5F2  B01G8JO5F2   \n",
      "3                                                 []  B001OC5JKY  B001OC5JKY   \n",
      "4                                                 []  B013J7WUGC  B07CJYMRWM   \n",
      "\n",
      "                        user_id               timestamp  helpful_vote  \\\n",
      "0  AFKZENTNBQ7A7V7UXW5JJI6UGRYQ 2022-07-18 22:58:37.948             0   \n",
      "1  AFKZENTNBQ7A7V7UXW5JJI6UGRYQ 2020-06-20 18:42:29.731             0   \n",
      "2  AFKZENTNBQ7A7V7UXW5JJI6UGRYQ 2018-04-07 09:23:37.534             0   \n",
      "3  AGGZ357AO26RQZVRLGU4D4N52DZQ 2010-11-20 18:41:35.000            18   \n",
      "4  AG2L7H23R5LLKDKLBEF2Q3L2MVDA 2023-02-17 02:39:41.238             0   \n",
      "\n",
      "   verified_purchase  \n",
      "0               True  \n",
      "1               True  \n",
      "2               True  \n",
      "3               True  \n",
      "4               True  \n"
     ]
    }
   ],
   "source": [
    "import pandas as pd\n",
    "preview = pd.read_json(r\"C:\\Users\\saarthak\\Desktop\\ResearcP\\Electronics.jsonl.gz\", lines=True, nrows=5)\n",
    "print(preview.head())"
   ]
  },
  {
   "cell_type": "code",
   "execution_count": null,
   "id": "efef96a8",
   "metadata": {},
   "outputs": [
    {
     "name": "stdout",
     "output_type": "stream",
     "text": [
      "               main_category  \\\n",
      "0            All Electronics   \n",
      "1            All Electronics   \n",
      "2                  Computers   \n",
      "3             AMAZON FASHION   \n",
      "4  Cell Phones & Accessories   \n",
      "\n",
      "                                               title  average_rating  \\\n",
      "0             FS-1051 FATSHARK TELEPORTER V3 HEADSET             3.5   \n",
      "1                      Ce-H22B12-S1 4Kx2K Hdmi 4Port             5.0   \n",
      "2  Digi-Tatoo Decal Skin Compatible With MacBook ...             4.5   \n",
      "3  NotoCity Compatible with Vivoactive 4 band 22m...             4.5   \n",
      "4             Motorola Droid X Essentials Combo Pack             3.8   \n",
      "\n",
      "   rating_number                                           features  \\\n",
      "0              6                                                 []   \n",
      "1              1             [UPC: 662774021904, Weight: 0.600 lbs]   \n",
      "2            246  [WARNING: Please IDENTIFY MODEL NUMBER on the ...   \n",
      "3            233  [☛NotoCity 22mm band is designed for Vivoactiv...   \n",
      "4             64  [New Droid X Essentials Combo Pack, Exclusive ...   \n",
      "\n",
      "                                         description  price  \\\n",
      "0  [Teleporter V3 The “Teleporter V3” kit sets a ...    NaN   \n",
      "1                               [HDMI In - HDMI Out]    NaN   \n",
      "2                                                 []  19.99   \n",
      "3                                                 []   9.99   \n",
      "4  [all Genuine High Quality Motorola Made Access...  14.99   \n",
      "\n",
      "                                              images  \\\n",
      "0  [{'thumb': 'https://m.media-amazon.com/images/...   \n",
      "1  [{'thumb': 'https://m.media-amazon.com/images/...   \n",
      "2  [{'thumb': 'https://m.media-amazon.com/images/...   \n",
      "3  [{'thumb': 'https://m.media-amazon.com/images/...   \n",
      "4  [{'thumb': 'https://m.media-amazon.com/images/...   \n",
      "\n",
      "                                              videos       store  \\\n",
      "0                                                 []   Fat Shark   \n",
      "1                                                 []        SIIG   \n",
      "2  [{'title': 'AL 2Sides Video', 'url': 'https://...  Digi-Tatoo   \n",
      "3                                                 []    NotoCity   \n",
      "4                                                 []     Verizon   \n",
      "\n",
      "                                          categories  \\\n",
      "0   [Electronics, Television & Video, Video Glasses]   \n",
      "1  [Electronics, Television & Video, Accessories,...   \n",
      "2  [Electronics, Computers & Accessories, Laptop ...   \n",
      "3  [Electronics, Wearable Technology, Clips, Arm ...   \n",
      "4  [Electronics, Computers & Accessories, Compute...   \n",
      "\n",
      "                                             details parent_asin  \\\n",
      "0  {'Date First Available': 'August 2, 2014', 'Ma...  B00MCW7G9M   \n",
      "1  {'Product Dimensions': '0.83 x 4.17 x 2.05 inc...  B00YT6XQSE   \n",
      "2  {'Brand': 'Digi-Tatoo', 'Color': 'Fresh Marble...  B07SM135LS   \n",
      "3  {'Date First Available': 'May 29, 2020', 'Manu...  B089CNGZCW   \n",
      "4  {'Product Dimensions': '11.6 x 6.9 x 3.1 inche...  B004E2Z88O   \n",
      "\n",
      "   bought_together  \n",
      "0              NaN  \n",
      "1              NaN  \n",
      "2              NaN  \n",
      "3              NaN  \n",
      "4              NaN  \n"
     ]
    }
   ],
   "source": [
    "import pandas as pd\n",
    "preview = pd.read_json(r\"C:\\Users\\saarthak\\Desktop\\ResearcP\\meta_Electronics.jsonl.gz\", lines=True, nrows=5)\n",
    "print(preview.head())"
   ]
  },
  {
   "cell_type": "markdown",
   "id": "6a50bf2b",
   "metadata": {},
   "source": [
    "Removing columns with Hyperlink and converting file to csv"
   ]
  },
  {
   "cell_type": "code",
   "execution_count": 4,
   "id": "bc3aa459",
   "metadata": {},
   "outputs": [
    {
     "name": "stdout",
     "output_type": "stream",
     "text": [
      "Written batch 1 (100000 rows)\n",
      "Written batch 2 (200000 rows)\n",
      "Written batch 3 (300000 rows)\n",
      "Written batch 4 (400000 rows)\n",
      "Written batch 5 (500000 rows)\n",
      "Written batch 6 (600000 rows)\n",
      "Written batch 7 (700000 rows)\n",
      "Written batch 8 (800000 rows)\n",
      "Written batch 9 (900000 rows)\n",
      "Written batch 10 (1000000 rows)\n",
      "Written batch 11 (1100000 rows)\n",
      "Written batch 12 (1200000 rows)\n",
      "Written batch 13 (1300000 rows)\n",
      "Written batch 14 (1400000 rows)\n",
      "Written batch 15 (1500000 rows)\n",
      "Written batch 16 (1600000 rows)\n",
      "Final write: total 1610012 lines.\n"
     ]
    }
   ],
   "source": [
    "input_path = r\"C:\\Users\\saarthak\\Desktop\\ResearcP\\meta_Electronics.jsonl.gz\"\n",
    "output_path = r\"C:\\Users\\saarthak\\Desktop\\ResearcP\\meta_Electronics_cleaned.csv\"\n",
    "\n",
    "chunksize = 100_000\n",
    "first_chunk = True\n",
    "drop_cols = [\"images\", \"videos\"]\n",
    "\n",
    "with gzip.open(input_path, 'rt', encoding='utf-8') as f:\n",
    "    batch = []\n",
    "    for i, line in enumerate(f, 1):\n",
    "        try:\n",
    "            obj = json.loads(line)\n",
    "            batch.append(obj)\n",
    "        except json.JSONDecodeError:\n",
    "            print(f\"Skipping line {i} (bad JSON)\")\n",
    "            continue\n",
    "\n",
    "        if i % chunksize == 0:\n",
    "            df = pd.DataFrame(batch)\n",
    "            if drop_cols:\n",
    "                df.drop(columns=[col for col in drop_cols if col in df.columns], inplace=True)\n",
    "            df.to_csv(output_path, mode='w' if first_chunk else 'a',\n",
    "                      index=False, header=first_chunk)\n",
    "            print(f\"Written batch {i // chunksize} ({i} rows)\")\n",
    "            first_chunk = False\n",
    "            batch.clear()\n",
    "\n",
    "    if batch:\n",
    "        df = pd.DataFrame(batch)\n",
    "        if drop_cols:\n",
    "            df.drop(columns=[col for col in drop_cols if col in df.columns], inplace=True)\n",
    "        df.to_csv(output_path, mode='w' if first_chunk else 'a',\n",
    "                  index=False, header=first_chunk)\n",
    "        print(f\"Final write: total {i} lines.\")\n"
   ]
  },
  {
   "cell_type": "code",
   "execution_count": 4,
   "id": "5f07c72a",
   "metadata": {},
   "outputs": [
    {
     "name": "stderr",
     "output_type": "stream",
     "text": [
      "C:\\Users\\saarthak\\AppData\\Local\\Temp\\ipykernel_11204\\677886419.py:2: DtypeWarning: Columns (6) have mixed types. Specify dtype option on import or set low_memory=False.\n",
      "  df = pd.read_csv(r\"C:\\Users\\saarthak\\Desktop\\ResearcP\\meta_Electronics_cleaned.csv\")\n"
     ]
    }
   ],
   "source": [
    "df = pd.read_csv(r\"C:\\Users\\saarthak\\Desktop\\ResearcP\\meta_Electronics_cleaned.csv\")\n",
    "\n",
    "columns_to_drop = ['bought_together', 'subtitle', 'author']\n",
    "df.drop(columns=[col for col in columns_to_drop if col in df.columns], inplace=True)\n",
    "\n",
    "df.to_csv(r\"C:\\Users\\saarthak\\Desktop\\ResearcP\\meta_Electronics_cleaned1.csv\", index=False)"
   ]
  },
  {
   "cell_type": "markdown",
   "id": "7a80e9d5",
   "metadata": {},
   "source": [
    "Renaming columns to avoid clash and confusion with column names"
   ]
  },
  {
   "cell_type": "code",
   "execution_count": null,
   "id": "cbc3ab10",
   "metadata": {},
   "outputs": [
    {
     "name": "stderr",
     "output_type": "stream",
     "text": [
      "C:\\Users\\saarthak\\AppData\\Local\\Temp\\ipykernel_11664\\3633288061.py:3: DtypeWarning: Columns (6) have mixed types. Specify dtype option on import or set low_memory=False.\n",
      "  df = pd.read_csv(r\"C:\\Users\\saarthak\\Desktop\\ResearcP\\meta_Electronics_cleaned1.csv\")\n"
     ]
    },
    {
     "name": "stdout",
     "output_type": "stream",
     "text": [
      "Column renamed and saved as meta_renamed.csv\n"
     ]
    }
   ],
   "source": [
    "df = pd.read_csv(r\"C:\\Users\\saarthak\\Desktop\\ResearcP\\meta_Electronics_cleaned1.csv\")\n",
    "df.rename(columns={'average_rating': 'product_average_rating','rating_number':'product_rating_number'}, inplace=True)\n",
    "df.to_csv(r\"C:\\Users\\saarthak\\Desktop\\ResearcP\\meta_Electronics_cleaned.csv\", index=False)\n",
    "print(\"Column renamed and saved as meta_Electronics_cleaned.csv\")"
   ]
  },
  {
   "cell_type": "code",
   "execution_count": null,
   "id": "d6fecc08",
   "metadata": {},
   "outputs": [],
   "source": [
    "import polars as pl\n",
    "df = pl.scan_csv(r\"C:\\Users\\saarthak\\Desktop\\ResearcP\\Electronics_cleaned.csv\")\n",
    "\n",
    "df = df.rename({\n",
    "    \"rating\": \"review_rating\",\n",
    "    \"title\": \"review_title\",\n",
    "    \"text\": \"review_text\"\n",
    "})\n",
    "\n",
    "df.collect().write_csv(r\"C:\\Users\\saarthak\\Desktop\\ResearcP\\Electronics_cleaned1.csv\")\n"
   ]
  },
  {
   "cell_type": "code",
   "execution_count": 2,
   "id": "cfcdf166",
   "metadata": {},
   "outputs": [
    {
     "data": {
      "text/html": [
       "<div><style>\n",
       ".dataframe > thead > tr,\n",
       ".dataframe > tbody > tr {\n",
       "  text-align: right;\n",
       "  white-space: pre-wrap;\n",
       "}\n",
       "</style>\n",
       "<small>shape: (5, 9)</small><table border=\"1\" class=\"dataframe\"><thead><tr><th>review_rating</th><th>review_title</th><th>review_text</th><th>asin</th><th>parent_asin</th><th>user_id</th><th>timestamp</th><th>helpful_vote</th><th>verified_purchase</th></tr><tr><td>f64</td><td>str</td><td>str</td><td>str</td><td>str</td><td>str</td><td>str</td><td>i64</td><td>bool</td></tr></thead><tbody><tr><td>3.0</td><td>&quot;smells like gasoline! going ba…</td><td>&quot;first &amp; most offensive: they r…</td><td>&quot;B083NRGZMM&quot;</td><td>&quot;B083NRGZMM&quot;</td><td>&quot;AFKZENTNBQ7A7V7UXW5JJI6UGRYQ&quot;</td><td>&quot;2022-07-18T22:58:37.948&quot;</td><td>0</td><td>true</td></tr><tr><td>1.0</td><td>&quot;didn’t work at all lenses loos…</td><td>&quot;these didn’t work. idk if they…</td><td>&quot;B07N69T6TM&quot;</td><td>&quot;B07N69T6TM&quot;</td><td>&quot;AFKZENTNBQ7A7V7UXW5JJI6UGRYQ&quot;</td><td>&quot;2020-06-20T18:42:29.731&quot;</td><td>0</td><td>true</td></tr><tr><td>5.0</td><td>&quot;excellent!&quot;</td><td>&quot;i love these. they even come w…</td><td>&quot;B01G8JO5F2&quot;</td><td>&quot;B01G8JO5F2&quot;</td><td>&quot;AFKZENTNBQ7A7V7UXW5JJI6UGRYQ&quot;</td><td>&quot;2018-04-07T09:23:37.534&quot;</td><td>0</td><td>true</td></tr><tr><td>5.0</td><td>&quot;great laptop backpack!&quot;</td><td>&quot;i was searching for a sturdy b…</td><td>&quot;B001OC5JKY&quot;</td><td>&quot;B001OC5JKY&quot;</td><td>&quot;AGGZ357AO26RQZVRLGU4D4N52DZQ&quot;</td><td>&quot;2010-11-20T18:41:35.000&quot;</td><td>18</td><td>true</td></tr><tr><td>5.0</td><td>&quot;best headphones in the fifties…</td><td>&quot;i&#x27;ve bought these headphones t…</td><td>&quot;B013J7WUGC&quot;</td><td>&quot;B07CJYMRWM&quot;</td><td>&quot;AG2L7H23R5LLKDKLBEF2Q3L2MVDA&quot;</td><td>&quot;2023-02-17T02:39:41.238&quot;</td><td>0</td><td>true</td></tr></tbody></table></div>"
      ],
      "text/plain": [
       "shape: (5, 9)\n",
       "┌───────────┬───────────┬───────────┬───────────┬───┬───────────┬───────────┬───────────┬──────────┐\n",
       "│ review_ra ┆ review_ti ┆ review_te ┆ asin      ┆ … ┆ user_id   ┆ timestamp ┆ helpful_v ┆ verified │\n",
       "│ ting      ┆ tle       ┆ xt        ┆ ---       ┆   ┆ ---       ┆ ---       ┆ ote       ┆ _purchas │\n",
       "│ ---       ┆ ---       ┆ ---       ┆ str       ┆   ┆ str       ┆ str       ┆ ---       ┆ e        │\n",
       "│ f64       ┆ str       ┆ str       ┆           ┆   ┆           ┆           ┆ i64       ┆ ---      │\n",
       "│           ┆           ┆           ┆           ┆   ┆           ┆           ┆           ┆ bool     │\n",
       "╞═══════════╪═══════════╪═══════════╪═══════════╪═══╪═══════════╪═══════════╪═══════════╪══════════╡\n",
       "│ 3.0       ┆ smells    ┆ first &   ┆ B083NRGZM ┆ … ┆ AFKZENTNB ┆ 2022-07-1 ┆ 0         ┆ true     │\n",
       "│           ┆ like      ┆ most offe ┆ M         ┆   ┆ Q7A7V7UXW ┆ 8T22:58:3 ┆           ┆          │\n",
       "│           ┆ gasoline! ┆ nsive:    ┆           ┆   ┆ 5JJI6UGRY ┆ 7.948     ┆           ┆          │\n",
       "│           ┆ going ba… ┆ they r…   ┆           ┆   ┆ Q         ┆           ┆           ┆          │\n",
       "│ 1.0       ┆ didn’t    ┆ these     ┆ B07N69T6T ┆ … ┆ AFKZENTNB ┆ 2020-06-2 ┆ 0         ┆ true     │\n",
       "│           ┆ work at   ┆ didn’t    ┆ M         ┆   ┆ Q7A7V7UXW ┆ 0T18:42:2 ┆           ┆          │\n",
       "│           ┆ all       ┆ work. idk ┆           ┆   ┆ 5JJI6UGRY ┆ 9.731     ┆           ┆          │\n",
       "│           ┆ lenses    ┆ if they…  ┆           ┆   ┆ Q         ┆           ┆           ┆          │\n",
       "│           ┆ loos…     ┆           ┆           ┆   ┆           ┆           ┆           ┆          │\n",
       "│ 5.0       ┆ excellent ┆ i love    ┆ B01G8JO5F ┆ … ┆ AFKZENTNB ┆ 2018-04-0 ┆ 0         ┆ true     │\n",
       "│           ┆ !         ┆ these.    ┆ 2         ┆   ┆ Q7A7V7UXW ┆ 7T09:23:3 ┆           ┆          │\n",
       "│           ┆           ┆ they even ┆           ┆   ┆ 5JJI6UGRY ┆ 7.534     ┆           ┆          │\n",
       "│           ┆           ┆ come w…   ┆           ┆   ┆ Q         ┆           ┆           ┆          │\n",
       "│ 5.0       ┆ great     ┆ i was     ┆ B001OC5JK ┆ … ┆ AGGZ357AO ┆ 2010-11-2 ┆ 18        ┆ true     │\n",
       "│           ┆ laptop    ┆ searching ┆ Y         ┆   ┆ 26RQZVRLG ┆ 0T18:41:3 ┆           ┆          │\n",
       "│           ┆ backpack! ┆ for a     ┆           ┆   ┆ U4D4N52DZ ┆ 5.000     ┆           ┆          │\n",
       "│           ┆           ┆ sturdy b… ┆           ┆   ┆ Q         ┆           ┆           ┆          │\n",
       "│ 5.0       ┆ best head ┆ i've      ┆ B013J7WUG ┆ … ┆ AG2L7H23R ┆ 2023-02-1 ┆ 0         ┆ true     │\n",
       "│           ┆ phones in ┆ bought    ┆ C         ┆   ┆ 5LLKDKLBE ┆ 7T02:39:4 ┆           ┆          │\n",
       "│           ┆ the       ┆ these hea ┆           ┆   ┆ F2Q3L2MVD ┆ 1.238     ┆           ┆          │\n",
       "│           ┆ fifties…  ┆ dphones   ┆           ┆   ┆ A         ┆           ┆           ┆          │\n",
       "│           ┆           ┆ t…        ┆           ┆   ┆           ┆           ┆           ┆          │\n",
       "└───────────┴───────────┴───────────┴───────────┴───┴───────────┴───────────┴───────────┴──────────┘"
      ]
     },
     "execution_count": 2,
     "metadata": {},
     "output_type": "execute_result"
    }
   ],
   "source": [
    "review_df = pl.read_csv(r\"C:\\Users\\saarthak\\Desktop\\ResearcP\\Electronics_cleaned.csv\")\n",
    "review_df.head()"
   ]
  },
  {
   "cell_type": "code",
   "execution_count": null,
   "id": "76300971",
   "metadata": {},
   "outputs": [
    {
     "data": {
      "text/html": [
       "<div><style>\n",
       ".dataframe > thead > tr,\n",
       ".dataframe > tbody > tr {\n",
       "  text-align: right;\n",
       "  white-space: pre-wrap;\n",
       "}\n",
       "</style>\n",
       "<small>shape: (5, 9)</small><table border=\"1\" class=\"dataframe\"><thead><tr><th>review_rating</th><th>review_title</th><th>review_text</th><th>asin</th><th>parent_asin</th><th>user_id</th><th>timestamp</th><th>helpful_vote</th><th>verified_purchase</th></tr><tr><td>f64</td><td>str</td><td>str</td><td>str</td><td>str</td><td>str</td><td>i64</td><td>i64</td><td>bool</td></tr></thead><tbody><tr><td>3.0</td><td>&quot;smells like gasoline! going ba…</td><td>&quot;first &amp; most offensive: they r…</td><td>&quot;B083NRGZMM&quot;</td><td>&quot;B083NRGZMM&quot;</td><td>&quot;AFKZENTNBQ7A7V7UXW5JJI6UGRYQ&quot;</td><td>1658185117948</td><td>0</td><td>true</td></tr><tr><td>1.0</td><td>&quot;didn’t work at all lenses loos…</td><td>&quot;these didn’t work. idk if they…</td><td>&quot;B07N69T6TM&quot;</td><td>&quot;B07N69T6TM&quot;</td><td>&quot;AFKZENTNBQ7A7V7UXW5JJI6UGRYQ&quot;</td><td>1592678549731</td><td>0</td><td>true</td></tr><tr><td>5.0</td><td>&quot;excellent!&quot;</td><td>&quot;i love these. they even come w…</td><td>&quot;B01G8JO5F2&quot;</td><td>&quot;B01G8JO5F2&quot;</td><td>&quot;AFKZENTNBQ7A7V7UXW5JJI6UGRYQ&quot;</td><td>1523093017534</td><td>0</td><td>true</td></tr><tr><td>5.0</td><td>&quot;great laptop backpack!&quot;</td><td>&quot;i was searching for a sturdy b…</td><td>&quot;B001OC5JKY&quot;</td><td>&quot;B001OC5JKY&quot;</td><td>&quot;AGGZ357AO26RQZVRLGU4D4N52DZQ&quot;</td><td>1290278495000</td><td>18</td><td>true</td></tr><tr><td>5.0</td><td>&quot;best headphones in the fifties…</td><td>&quot;i&#x27;ve bought these headphones t…</td><td>&quot;B013J7WUGC&quot;</td><td>&quot;B07CJYMRWM&quot;</td><td>&quot;AG2L7H23R5LLKDKLBEF2Q3L2MVDA&quot;</td><td>1676601581238</td><td>0</td><td>true</td></tr></tbody></table></div>"
      ],
      "text/plain": [
       "shape: (5, 9)\n",
       "┌───────────┬───────────┬───────────┬───────────┬───┬───────────┬───────────┬───────────┬──────────┐\n",
       "│ review_ra ┆ review_ti ┆ review_te ┆ asin      ┆ … ┆ user_id   ┆ timestamp ┆ helpful_v ┆ verified │\n",
       "│ ting      ┆ tle       ┆ xt        ┆ ---       ┆   ┆ ---       ┆ ---       ┆ ote       ┆ _purchas │\n",
       "│ ---       ┆ ---       ┆ ---       ┆ str       ┆   ┆ str       ┆ i64       ┆ ---       ┆ e        │\n",
       "│ f64       ┆ str       ┆ str       ┆           ┆   ┆           ┆           ┆ i64       ┆ ---      │\n",
       "│           ┆           ┆           ┆           ┆   ┆           ┆           ┆           ┆ bool     │\n",
       "╞═══════════╪═══════════╪═══════════╪═══════════╪═══╪═══════════╪═══════════╪═══════════╪══════════╡\n",
       "│ 3.0       ┆ smells    ┆ first &   ┆ B083NRGZM ┆ … ┆ AFKZENTNB ┆ 165818511 ┆ 0         ┆ true     │\n",
       "│           ┆ like      ┆ most offe ┆ M         ┆   ┆ Q7A7V7UXW ┆ 7948      ┆           ┆          │\n",
       "│           ┆ gasoline! ┆ nsive:    ┆           ┆   ┆ 5JJI6UGRY ┆           ┆           ┆          │\n",
       "│           ┆ going ba… ┆ they r…   ┆           ┆   ┆ Q         ┆           ┆           ┆          │\n",
       "│ 1.0       ┆ didn’t    ┆ these     ┆ B07N69T6T ┆ … ┆ AFKZENTNB ┆ 159267854 ┆ 0         ┆ true     │\n",
       "│           ┆ work at   ┆ didn’t    ┆ M         ┆   ┆ Q7A7V7UXW ┆ 9731      ┆           ┆          │\n",
       "│           ┆ all       ┆ work. idk ┆           ┆   ┆ 5JJI6UGRY ┆           ┆           ┆          │\n",
       "│           ┆ lenses    ┆ if they…  ┆           ┆   ┆ Q         ┆           ┆           ┆          │\n",
       "│           ┆ loos…     ┆           ┆           ┆   ┆           ┆           ┆           ┆          │\n",
       "│ 5.0       ┆ excellent ┆ i love    ┆ B01G8JO5F ┆ … ┆ AFKZENTNB ┆ 152309301 ┆ 0         ┆ true     │\n",
       "│           ┆ !         ┆ these.    ┆ 2         ┆   ┆ Q7A7V7UXW ┆ 7534      ┆           ┆          │\n",
       "│           ┆           ┆ they even ┆           ┆   ┆ 5JJI6UGRY ┆           ┆           ┆          │\n",
       "│           ┆           ┆ come w…   ┆           ┆   ┆ Q         ┆           ┆           ┆          │\n",
       "│ 5.0       ┆ great     ┆ i was     ┆ B001OC5JK ┆ … ┆ AGGZ357AO ┆ 129027849 ┆ 18        ┆ true     │\n",
       "│           ┆ laptop    ┆ searching ┆ Y         ┆   ┆ 26RQZVRLG ┆ 5000      ┆           ┆          │\n",
       "│           ┆ backpack! ┆ for a     ┆           ┆   ┆ U4D4N52DZ ┆           ┆           ┆          │\n",
       "│           ┆           ┆ sturdy b… ┆           ┆   ┆ Q         ┆           ┆           ┆          │\n",
       "│ 5.0       ┆ best head ┆ i've      ┆ B013J7WUG ┆ … ┆ AG2L7H23R ┆ 167660158 ┆ 0         ┆ true     │\n",
       "│           ┆ phones in ┆ bought    ┆ C         ┆   ┆ 5LLKDKLBE ┆ 1238      ┆           ┆          │\n",
       "│           ┆ the       ┆ these hea ┆           ┆   ┆ F2Q3L2MVD ┆           ┆           ┆          │\n",
       "│           ┆ fifties…  ┆ dphones   ┆           ┆   ┆ A         ┆           ┆           ┆          │\n",
       "│           ┆           ┆ t…        ┆           ┆   ┆           ┆           ┆           ┆          │\n",
       "└───────────┴───────────┴───────────┴───────────┴───┴───────────┴───────────┴───────────┴──────────┘"
      ]
     },
     "execution_count": 7,
     "metadata": {},
     "output_type": "execute_result"
    }
   ],
   "source": [
    "review_df = review_df.with_columns([\n",
    "    pl.col(\"review_title\").str.to_lowercase().alias(\"review_title\"),\n",
    "    pl.col(\"review_text\").str.to_lowercase().alias(\"review_text\")\n",
    "])\n",
    "review_df.write_csv(r\"C:\\Users\\saarthak\\Desktop\\ResearcP\\Electronics_cleaned.csv\")\n",
    "review_df.head()"
   ]
  },
  {
   "cell_type": "code",
   "execution_count": 4,
   "id": "e14a43c9",
   "metadata": {},
   "outputs": [
    {
     "data": {
      "text/html": [
       "<div><style>\n",
       ".dataframe > thead > tr,\n",
       ".dataframe > tbody > tr {\n",
       "  text-align: right;\n",
       "  white-space: pre-wrap;\n",
       "}\n",
       "</style>\n",
       "<small>shape: (5, 9)</small><table border=\"1\" class=\"dataframe\"><thead><tr><th>review_rating</th><th>review_title</th><th>review_text</th><th>asin</th><th>parent_asin</th><th>user_id</th><th>timestamp</th><th>helpful_vote</th><th>verified_purchase</th></tr><tr><td>f64</td><td>str</td><td>str</td><td>str</td><td>str</td><td>str</td><td>datetime[ms]</td><td>i64</td><td>bool</td></tr></thead><tbody><tr><td>3.0</td><td>&quot;smells like gasoline! going ba…</td><td>&quot;first &amp; most offensive: they r…</td><td>&quot;B083NRGZMM&quot;</td><td>&quot;B083NRGZMM&quot;</td><td>&quot;AFKZENTNBQ7A7V7UXW5JJI6UGRYQ&quot;</td><td>2022-07-18 22:58:37.948</td><td>0</td><td>true</td></tr><tr><td>1.0</td><td>&quot;didn’t work at all lenses loos…</td><td>&quot;these didn’t work. idk if they…</td><td>&quot;B07N69T6TM&quot;</td><td>&quot;B07N69T6TM&quot;</td><td>&quot;AFKZENTNBQ7A7V7UXW5JJI6UGRYQ&quot;</td><td>2020-06-20 18:42:29.731</td><td>0</td><td>true</td></tr><tr><td>5.0</td><td>&quot;excellent!&quot;</td><td>&quot;i love these. they even come w…</td><td>&quot;B01G8JO5F2&quot;</td><td>&quot;B01G8JO5F2&quot;</td><td>&quot;AFKZENTNBQ7A7V7UXW5JJI6UGRYQ&quot;</td><td>2018-04-07 09:23:37.534</td><td>0</td><td>true</td></tr><tr><td>5.0</td><td>&quot;great laptop backpack!&quot;</td><td>&quot;i was searching for a sturdy b…</td><td>&quot;B001OC5JKY&quot;</td><td>&quot;B001OC5JKY&quot;</td><td>&quot;AGGZ357AO26RQZVRLGU4D4N52DZQ&quot;</td><td>2010-11-20 18:41:35</td><td>18</td><td>true</td></tr><tr><td>5.0</td><td>&quot;best headphones in the fifties…</td><td>&quot;i&#x27;ve bought these headphones t…</td><td>&quot;B013J7WUGC&quot;</td><td>&quot;B07CJYMRWM&quot;</td><td>&quot;AG2L7H23R5LLKDKLBEF2Q3L2MVDA&quot;</td><td>2023-02-17 02:39:41.238</td><td>0</td><td>true</td></tr></tbody></table></div>"
      ],
      "text/plain": [
       "shape: (5, 9)\n",
       "┌───────────┬───────────┬───────────┬───────────┬───┬───────────┬───────────┬───────────┬──────────┐\n",
       "│ review_ra ┆ review_ti ┆ review_te ┆ asin      ┆ … ┆ user_id   ┆ timestamp ┆ helpful_v ┆ verified │\n",
       "│ ting      ┆ tle       ┆ xt        ┆ ---       ┆   ┆ ---       ┆ ---       ┆ ote       ┆ _purchas │\n",
       "│ ---       ┆ ---       ┆ ---       ┆ str       ┆   ┆ str       ┆ datetime[ ┆ ---       ┆ e        │\n",
       "│ f64       ┆ str       ┆ str       ┆           ┆   ┆           ┆ ms]       ┆ i64       ┆ ---      │\n",
       "│           ┆           ┆           ┆           ┆   ┆           ┆           ┆           ┆ bool     │\n",
       "╞═══════════╪═══════════╪═══════════╪═══════════╪═══╪═══════════╪═══════════╪═══════════╪══════════╡\n",
       "│ 3.0       ┆ smells    ┆ first &   ┆ B083NRGZM ┆ … ┆ AFKZENTNB ┆ 2022-07-1 ┆ 0         ┆ true     │\n",
       "│           ┆ like      ┆ most offe ┆ M         ┆   ┆ Q7A7V7UXW ┆ 8 22:58:3 ┆           ┆          │\n",
       "│           ┆ gasoline! ┆ nsive:    ┆           ┆   ┆ 5JJI6UGRY ┆ 7.948     ┆           ┆          │\n",
       "│           ┆ going ba… ┆ they r…   ┆           ┆   ┆ Q         ┆           ┆           ┆          │\n",
       "│ 1.0       ┆ didn’t    ┆ these     ┆ B07N69T6T ┆ … ┆ AFKZENTNB ┆ 2020-06-2 ┆ 0         ┆ true     │\n",
       "│           ┆ work at   ┆ didn’t    ┆ M         ┆   ┆ Q7A7V7UXW ┆ 0 18:42:2 ┆           ┆          │\n",
       "│           ┆ all       ┆ work. idk ┆           ┆   ┆ 5JJI6UGRY ┆ 9.731     ┆           ┆          │\n",
       "│           ┆ lenses    ┆ if they…  ┆           ┆   ┆ Q         ┆           ┆           ┆          │\n",
       "│           ┆ loos…     ┆           ┆           ┆   ┆           ┆           ┆           ┆          │\n",
       "│ 5.0       ┆ excellent ┆ i love    ┆ B01G8JO5F ┆ … ┆ AFKZENTNB ┆ 2018-04-0 ┆ 0         ┆ true     │\n",
       "│           ┆ !         ┆ these.    ┆ 2         ┆   ┆ Q7A7V7UXW ┆ 7 09:23:3 ┆           ┆          │\n",
       "│           ┆           ┆ they even ┆           ┆   ┆ 5JJI6UGRY ┆ 7.534     ┆           ┆          │\n",
       "│           ┆           ┆ come w…   ┆           ┆   ┆ Q         ┆           ┆           ┆          │\n",
       "│ 5.0       ┆ great     ┆ i was     ┆ B001OC5JK ┆ … ┆ AGGZ357AO ┆ 2010-11-2 ┆ 18        ┆ true     │\n",
       "│           ┆ laptop    ┆ searching ┆ Y         ┆   ┆ 26RQZVRLG ┆ 0         ┆           ┆          │\n",
       "│           ┆ backpack! ┆ for a     ┆           ┆   ┆ U4D4N52DZ ┆ 18:41:35  ┆           ┆          │\n",
       "│           ┆           ┆ sturdy b… ┆           ┆   ┆ Q         ┆           ┆           ┆          │\n",
       "│ 5.0       ┆ best head ┆ i've      ┆ B013J7WUG ┆ … ┆ AG2L7H23R ┆ 2023-02-1 ┆ 0         ┆ true     │\n",
       "│           ┆ phones in ┆ bought    ┆ C         ┆   ┆ 5LLKDKLBE ┆ 7 02:39:4 ┆           ┆          │\n",
       "│           ┆ the       ┆ these hea ┆           ┆   ┆ F2Q3L2MVD ┆ 1.238     ┆           ┆          │\n",
       "│           ┆ fifties…  ┆ dphones   ┆           ┆   ┆ A         ┆           ┆           ┆          │\n",
       "│           ┆           ┆ t…        ┆           ┆   ┆           ┆           ┆           ┆          │\n",
       "└───────────┴───────────┴───────────┴───────────┴───┴───────────┴───────────┴───────────┴──────────┘"
      ]
     },
     "execution_count": 4,
     "metadata": {},
     "output_type": "execute_result"
    }
   ],
   "source": [
    "review_df = review_df.with_columns([\n",
    "    pl.col(\"timestamp\").cast(pl.String).cast(pl.Datetime(\"ms\")).alias(\"timestamp\")\n",
    "])\n",
    "review_df.head()"
   ]
  },
  {
   "cell_type": "code",
   "execution_count": 11,
   "id": "13cddaba",
   "metadata": {},
   "outputs": [],
   "source": [
    "review_df.write_csv(r\"C:\\Users\\saarthak\\Desktop\\ResearcP\\Electronics_cleaned1.csv\")"
   ]
  },
  {
   "cell_type": "code",
   "execution_count": 12,
   "id": "38797ae9",
   "metadata": {},
   "outputs": [
    {
     "data": {
      "text/plain": [
       "(43884409, 9)"
      ]
     },
     "execution_count": 12,
     "metadata": {},
     "output_type": "execute_result"
    }
   ],
   "source": [
    "review_df.shape"
   ]
  },
  {
   "cell_type": "code",
   "execution_count": 1,
   "id": "bd02c06f",
   "metadata": {},
   "outputs": [
    {
     "data": {
      "text/html": [
       "<div><style>\n",
       ".dataframe > thead > tr,\n",
       ".dataframe > tbody > tr {\n",
       "  text-align: right;\n",
       "  white-space: pre-wrap;\n",
       "}\n",
       "</style>\n",
       "<small>shape: (5, 11)</small><table border=\"1\" class=\"dataframe\"><thead><tr><th>main_category</th><th>product_title</th><th>product_average_rating</th><th>product_rating_number</th><th>features</th><th>description</th><th>price</th><th>store</th><th>categories</th><th>details</th><th>parent_asin</th></tr><tr><td>str</td><td>str</td><td>f64</td><td>i64</td><td>str</td><td>str</td><td>f64</td><td>str</td><td>str</td><td>str</td><td>str</td></tr></thead><tbody><tr><td>&quot;All Electronics&quot;</td><td>&quot;FS-1051 FATSHARK TELEPORTER V3…</td><td>3.5</td><td>6</td><td>&quot;[]&quot;</td><td>&quot;[&#x27;Teleporter V3 The “Teleporte…</td><td>null</td><td>&quot;Fat Shark&quot;</td><td>&quot;[&#x27;Electronics&#x27;, &#x27;Television &amp; …</td><td>&quot;{&#x27;Date First Available&#x27;: &#x27;Augu…</td><td>&quot;B00MCW7G9M&quot;</td></tr><tr><td>&quot;All Electronics&quot;</td><td>&quot;Ce-H22B12-S1 4Kx2K Hdmi 4Port&quot;</td><td>5.0</td><td>1</td><td>&quot;[&#x27;UPC: 662774021904&#x27;, &#x27;Weight:…</td><td>&quot;[&#x27;HDMI In - HDMI Out&#x27;]&quot;</td><td>null</td><td>&quot;SIIG&quot;</td><td>&quot;[&#x27;Electronics&#x27;, &#x27;Television &amp; …</td><td>&quot;{&#x27;Product Dimensions&#x27;: &#x27;0.83 x…</td><td>&quot;B00YT6XQSE&quot;</td></tr><tr><td>&quot;Computers&quot;</td><td>&quot;Digi-Tatoo Decal Skin Compatib…</td><td>4.5</td><td>246</td><td>&quot;[&#x27;WARNING: Please IDENTIFY MOD…</td><td>&quot;[]&quot;</td><td>19.99</td><td>&quot;Digi-Tatoo&quot;</td><td>&quot;[&#x27;Electronics&#x27;, &#x27;Computers &amp; A…</td><td>&quot;{&#x27;Brand&#x27;: &#x27;Digi-Tatoo&#x27;, &#x27;Color…</td><td>&quot;B07SM135LS&quot;</td></tr><tr><td>&quot;AMAZON FASHION&quot;</td><td>&quot;NotoCity Compatible with Vivoa…</td><td>4.5</td><td>233</td><td>&quot;[&#x27;☛NotoCity 22mm band is desig…</td><td>&quot;[]&quot;</td><td>9.99</td><td>&quot;NotoCity&quot;</td><td>&quot;[&#x27;Electronics&#x27;, &#x27;Wearable Tech…</td><td>&quot;{&#x27;Date First Available&#x27;: &#x27;May …</td><td>&quot;B089CNGZCW&quot;</td></tr><tr><td>&quot;Cell Phones &amp; Accessories&quot;</td><td>&quot;Motorola Droid X Essentials Co…</td><td>3.8</td><td>64</td><td>&quot;[&#x27;New Droid X Essentials Combo…</td><td>&quot;[&#x27;all Genuine High Quality Mot…</td><td>14.99</td><td>&quot;Verizon&quot;</td><td>&quot;[&#x27;Electronics&#x27;, &#x27;Computers &amp; A…</td><td>&quot;{&#x27;Product Dimensions&#x27;: &#x27;11.6 x…</td><td>&quot;B004E2Z88O&quot;</td></tr></tbody></table></div>"
      ],
      "text/plain": [
       "shape: (5, 11)\n",
       "┌───────────┬───────────┬───────────┬───────────┬───┬───────────┬───────────┬───────────┬──────────┐\n",
       "│ main_cate ┆ product_t ┆ product_a ┆ product_r ┆ … ┆ store     ┆ categorie ┆ details   ┆ parent_a │\n",
       "│ gory      ┆ itle      ┆ verage_ra ┆ ating_num ┆   ┆ ---       ┆ s         ┆ ---       ┆ sin      │\n",
       "│ ---       ┆ ---       ┆ ting      ┆ ber       ┆   ┆ str       ┆ ---       ┆ str       ┆ ---      │\n",
       "│ str       ┆ str       ┆ ---       ┆ ---       ┆   ┆           ┆ str       ┆           ┆ str      │\n",
       "│           ┆           ┆ f64       ┆ i64       ┆   ┆           ┆           ┆           ┆          │\n",
       "╞═══════════╪═══════════╪═══════════╪═══════════╪═══╪═══════════╪═══════════╪═══════════╪══════════╡\n",
       "│ All Elect ┆ FS-1051   ┆ 3.5       ┆ 6         ┆ … ┆ Fat Shark ┆ ['Electro ┆ {'Date    ┆ B00MCW7G │\n",
       "│ ronics    ┆ FATSHARK  ┆           ┆           ┆   ┆           ┆ nics',    ┆ First Ava ┆ 9M       │\n",
       "│           ┆ TELEPORTE ┆           ┆           ┆   ┆           ┆ 'Televisi ┆ ilable':  ┆          │\n",
       "│           ┆ R V3…     ┆           ┆           ┆   ┆           ┆ on & …    ┆ 'Augu…    ┆          │\n",
       "│ All Elect ┆ Ce-H22B12 ┆ 5.0       ┆ 1         ┆ … ┆ SIIG      ┆ ['Electro ┆ {'Product ┆ B00YT6XQ │\n",
       "│ ronics    ┆ -S1 4Kx2K ┆           ┆           ┆   ┆           ┆ nics',    ┆ Dimension ┆ SE       │\n",
       "│           ┆ Hdmi      ┆           ┆           ┆   ┆           ┆ 'Televisi ┆ s': '0.83 ┆          │\n",
       "│           ┆ 4Port     ┆           ┆           ┆   ┆           ┆ on & …    ┆ x…        ┆          │\n",
       "│ Computers ┆ Digi-Tato ┆ 4.5       ┆ 246       ┆ … ┆ Digi-Tato ┆ ['Electro ┆ {'Brand': ┆ B07SM135 │\n",
       "│           ┆ o Decal   ┆           ┆           ┆   ┆ o         ┆ nics',    ┆ 'Digi-Tat ┆ LS       │\n",
       "│           ┆ Skin      ┆           ┆           ┆   ┆           ┆ 'Computer ┆ oo',      ┆          │\n",
       "│           ┆ Compatib… ┆           ┆           ┆   ┆           ┆ s & A…    ┆ 'Color…   ┆          │\n",
       "│ AMAZON    ┆ NotoCity  ┆ 4.5       ┆ 233       ┆ … ┆ NotoCity  ┆ ['Electro ┆ {'Date    ┆ B089CNGZ │\n",
       "│ FASHION   ┆ Compatibl ┆           ┆           ┆   ┆           ┆ nics',    ┆ First Ava ┆ CW       │\n",
       "│           ┆ e with    ┆           ┆           ┆   ┆           ┆ 'Wearable ┆ ilable':  ┆          │\n",
       "│           ┆ Vivoa…    ┆           ┆           ┆   ┆           ┆ Tech…     ┆ 'May …    ┆          │\n",
       "│ Cell      ┆ Motorola  ┆ 3.8       ┆ 64        ┆ … ┆ Verizon   ┆ ['Electro ┆ {'Product ┆ B004E2Z8 │\n",
       "│ Phones &  ┆ Droid X   ┆           ┆           ┆   ┆           ┆ nics',    ┆ Dimension ┆ 8O       │\n",
       "│ Accessori ┆ Essential ┆           ┆           ┆   ┆           ┆ 'Computer ┆ s': '11.6 ┆          │\n",
       "│ es        ┆ s Co…     ┆           ┆           ┆   ┆           ┆ s & A…    ┆ x…        ┆          │\n",
       "└───────────┴───────────┴───────────┴───────────┴───┴───────────┴───────────┴───────────┴──────────┘"
      ]
     },
     "execution_count": 1,
     "metadata": {},
     "output_type": "execute_result"
    }
   ],
   "source": [
    "import polars as pl\n",
    "\n",
    "meta_path = r\"C:\\Users\\saarthak\\Desktop\\ResearcP\\meta_Electronics_cleaned.csv\"\n",
    "meta_df = pl.read_csv(\n",
    "    meta_path,\n",
    "    infer_schema_length=10000,                \n",
    "    null_values=[\"\", \"—\", \"-\", \"NA\", \"null\"], \n",
    "    ignore_errors=True                \n",
    ")\n",
    "\n",
    "meta_df.head()"
   ]
  },
  {
   "cell_type": "code",
   "execution_count": 2,
   "id": "ca9cf140",
   "metadata": {},
   "outputs": [
    {
     "data": {
      "text/html": [
       "<div><style>\n",
       ".dataframe > thead > tr,\n",
       ".dataframe > tbody > tr {\n",
       "  text-align: right;\n",
       "  white-space: pre-wrap;\n",
       "}\n",
       "</style>\n",
       "<small>shape: (1, 11)</small><table border=\"1\" class=\"dataframe\"><thead><tr><th>main_category</th><th>product_title</th><th>product_average_rating</th><th>product_rating_number</th><th>features</th><th>description</th><th>price</th><th>store</th><th>categories</th><th>details</th><th>parent_asin</th></tr><tr><td>u32</td><td>u32</td><td>u32</td><td>u32</td><td>u32</td><td>u32</td><td>u32</td><td>u32</td><td>u32</td><td>u32</td><td>u32</td></tr></thead><tbody><tr><td>0</td><td>0</td><td>0</td><td>0</td><td>0</td><td>0</td><td>996839</td><td>0</td><td>0</td><td>0</td><td>0</td></tr></tbody></table></div>"
      ],
      "text/plain": [
       "shape: (1, 11)\n",
       "┌────────────┬────────────┬────────────┬────────────┬───┬───────┬────────────┬─────────┬───────────┐\n",
       "│ main_categ ┆ product_ti ┆ product_av ┆ product_ra ┆ … ┆ store ┆ categories ┆ details ┆ parent_as │\n",
       "│ ory        ┆ tle        ┆ erage_rati ┆ ting_numbe ┆   ┆ ---   ┆ ---        ┆ ---     ┆ in        │\n",
       "│ ---        ┆ ---        ┆ ng         ┆ r          ┆   ┆ u32   ┆ u32        ┆ u32     ┆ ---       │\n",
       "│ u32        ┆ u32        ┆ ---        ┆ ---        ┆   ┆       ┆            ┆         ┆ u32       │\n",
       "│            ┆            ┆ u32        ┆ u32        ┆   ┆       ┆            ┆         ┆           │\n",
       "╞════════════╪════════════╪════════════╪════════════╪═══╪═══════╪════════════╪═════════╪═══════════╡\n",
       "│ 0          ┆ 0          ┆ 0          ┆ 0          ┆ … ┆ 0     ┆ 0          ┆ 0       ┆ 0         │\n",
       "└────────────┴────────────┴────────────┴────────────┴───┴───────┴────────────┴─────────┴───────────┘"
      ]
     },
     "execution_count": 2,
     "metadata": {},
     "output_type": "execute_result"
    }
   ],
   "source": [
    "meta_df.null_count()"
   ]
  },
  {
   "cell_type": "code",
   "execution_count": 3,
   "id": "34feafea",
   "metadata": {},
   "outputs": [
    {
     "data": {
      "text/plain": [
       "(1494961, 11)"
      ]
     },
     "execution_count": 3,
     "metadata": {},
     "output_type": "execute_result"
    }
   ],
   "source": [
    "meta_df.shape"
   ]
  },
  {
   "cell_type": "code",
   "execution_count": 19,
   "id": "910d62e9",
   "metadata": {},
   "outputs": [],
   "source": [
    "meta_df = meta_df.filter(\n",
    "    (pl.col(\"product_title\").is_not_null()) & (pl.col(\"product_title\").str.strip_chars() != \"\") &\n",
    "    (pl.col(\"main_category\").is_not_null()) & (pl.col(\"main_category\").str.strip_chars() != \"\") &\n",
    "    (pl.col(\"store\").is_not_null()) & (pl.col(\"store\").str.strip_chars() != \"\")\n",
    ")"
   ]
  },
  {
   "cell_type": "markdown",
   "id": "7ecc6eb2",
   "metadata": {},
   "source": [
    "Extracting column names from the column named 'details'"
   ]
  },
  {
   "cell_type": "code",
   "execution_count": null,
   "id": "49ab50d6",
   "metadata": {},
   "outputs": [],
   "source": [
    "import ast\n",
    "\n",
    "def parse_dict(cell):\n",
    "    try:\n",
    "        if cell and cell.strip().startswith(\"{\"):\n",
    "            return ast.literal_eval(cell)\n",
    "        return {}\n",
    "    except Exception:\n",
    "        return {}\n",
    "\n",
    "parsed_details = [parse_dict(val) for val in meta_df[\"details\"]]\n",
    "details_df = pl.from_dicts(parsed_details)\n",
    "meta_df = meta_df.hstack(details_df)"
   ]
  },
  {
   "cell_type": "markdown",
   "id": "2d7da0a9",
   "metadata": {},
   "source": [
    "Dropping useless columns and which have too many null count"
   ]
  },
  {
   "cell_type": "code",
   "execution_count": 6,
   "id": "bb8b7d13",
   "metadata": {},
   "outputs": [
    {
     "data": {
      "text/html": [
       "<div><style>\n",
       ".dataframe > thead > tr,\n",
       ".dataframe > tbody > tr {\n",
       "  text-align: right;\n",
       "  white-space: pre-wrap;\n",
       "}\n",
       "</style>\n",
       "<small>shape: (1, 179)</small><table border=\"1\" class=\"dataframe\"><thead><tr><th>main_category</th><th>product_title</th><th>product_average_rating</th><th>product_rating_number</th><th>features</th><th>description</th><th>price</th><th>store</th><th>categories</th><th>details</th><th>parent_asin</th><th>Date First Available</th><th>Manufacturer</th><th>Product Dimensions</th><th>Item Weight</th><th>Item model number</th><th>Is Discontinued By Manufacturer</th><th>Brand</th><th>Color</th><th>Room Type</th><th>Material</th><th>Theme</th><th>Style</th><th>Age Range (Description)</th><th>Reusability</th><th>Pattern</th><th>Shape</th><th>Unit Count</th><th>Finish Type</th><th>Package Dimensions</th><th>Country of Origin</th><th>Best Sellers Rank</th><th>Other display features</th><th>Item Package Dimensions L x W x H</th><th>Package Weight</th><th>Item Dimensions  LxWxH</th><th>Brand Name</th><th>&hellip;</th><th>Cooling Method</th><th>Maximum Rotational Speed</th><th>Batteries Required?</th><th>Screen Resolution</th><th>Wireless Type</th><th>Graphics Card Description</th><th>Display Type</th><th>Warranty</th><th>Frequency Range</th><th>Tuner Technology</th><th>Water Resistance Level</th><th>Wireless Communication Technology</th><th>Batteries Included?</th><th>Cable Type</th><th>Data Transfer Rate</th><th>Whats in the box</th><th>Controller Type</th><th>Recommended Uses For Product</th><th>Department</th><th>Number of USB 2.0 Ports</th><th>Average Battery Life (in hours)</th><th>Rear Webcam Resolution</th><th>CPU Speed</th><th>Minimum Focal Length</th><th>Output Voltage</th><th>Current Rating</th><th>Main Power Connector Type</th><th>Occasion</th><th>Product Care Instructions</th><th>Outer Material</th><th>Age Range Description</th><th>Cache Size</th><th>Operation Mode</th><th>Operating Voltage</th><th>Actuator Type</th><th>International Protection Rating</th><th>Mechanical Life Expectancy</th></tr><tr><td>u32</td><td>u32</td><td>u32</td><td>u32</td><td>u32</td><td>u32</td><td>u32</td><td>u32</td><td>u32</td><td>u32</td><td>u32</td><td>u32</td><td>u32</td><td>u32</td><td>u32</td><td>u32</td><td>u32</td><td>u32</td><td>u32</td><td>u32</td><td>u32</td><td>u32</td><td>u32</td><td>u32</td><td>u32</td><td>u32</td><td>u32</td><td>u32</td><td>u32</td><td>u32</td><td>u32</td><td>u32</td><td>u32</td><td>u32</td><td>u32</td><td>u32</td><td>u32</td><td>&hellip;</td><td>u32</td><td>u32</td><td>u32</td><td>u32</td><td>u32</td><td>u32</td><td>u32</td><td>u32</td><td>u32</td><td>u32</td><td>u32</td><td>u32</td><td>u32</td><td>u32</td><td>u32</td><td>u32</td><td>u32</td><td>u32</td><td>u32</td><td>u32</td><td>u32</td><td>u32</td><td>u32</td><td>u32</td><td>u32</td><td>u32</td><td>u32</td><td>u32</td><td>u32</td><td>u32</td><td>u32</td><td>u32</td><td>u32</td><td>u32</td><td>u32</td><td>u32</td><td>u32</td></tr></thead><tbody><tr><td>0</td><td>0</td><td>0</td><td>0</td><td>0</td><td>0</td><td>996839</td><td>0</td><td>0</td><td>0</td><td>0</td><td>85668</td><td>214814</td><td>764391</td><td>267834</td><td>600388</td><td>858014</td><td>398052</td><td>902588</td><td>1478652</td><td>1287719</td><td>1474399</td><td>1437651</td><td>1444803</td><td>1465019</td><td>1464478</td><td>1436921</td><td>1390456</td><td>1468914</td><td>988624</td><td>1360027</td><td>870775</td><td>1389056</td><td>1481887</td><td>1481708</td><td>1329512</td><td>1448353</td><td>&hellip;</td><td>1481842</td><td>1489274</td><td>1463966</td><td>1462618</td><td>1448485</td><td>1465863</td><td>1473563</td><td>1488805</td><td>1488735</td><td>1490191</td><td>1472251</td><td>1468017</td><td>1477356</td><td>1429338</td><td>1469449</td><td>1474038</td><td>1465433</td><td>1417600</td><td>1448365</td><td>1473218</td><td>1479642</td><td>1487187</td><td>1478744</td><td>1485313</td><td>1476039</td><td>1483034</td><td>1485002</td><td>1469866</td><td>1481720</td><td>1494243</td><td>1493001</td><td>1489617</td><td>1491643</td><td>1493805</td><td>1494440</td><td>1492074</td><td>1494948</td></tr></tbody></table></div>"
      ],
      "text/plain": [
       "shape: (1, 179)\n",
       "┌───────────┬───────────┬───────────┬───────────┬───┬───────────┬───────────┬───────────┬──────────┐\n",
       "│ main_cate ┆ product_t ┆ product_a ┆ product_r ┆ … ┆ Operating ┆ Actuator  ┆ Internati ┆ Mechanic │\n",
       "│ gory      ┆ itle      ┆ verage_ra ┆ ating_num ┆   ┆ Voltage   ┆ Type      ┆ onal Prot ┆ al Life  │\n",
       "│ ---       ┆ ---       ┆ ting      ┆ ber       ┆   ┆ ---       ┆ ---       ┆ ection    ┆ Expectan │\n",
       "│ u32       ┆ u32       ┆ ---       ┆ ---       ┆   ┆ u32       ┆ u32       ┆ Ratin…    ┆ cy       │\n",
       "│           ┆           ┆ u32       ┆ u32       ┆   ┆           ┆           ┆ ---       ┆ ---      │\n",
       "│           ┆           ┆           ┆           ┆   ┆           ┆           ┆ u32       ┆ u32      │\n",
       "╞═══════════╪═══════════╪═══════════╪═══════════╪═══╪═══════════╪═══════════╪═══════════╪══════════╡\n",
       "│ 0         ┆ 0         ┆ 0         ┆ 0         ┆ … ┆ 1493805   ┆ 1494440   ┆ 1492074   ┆ 1494948  │\n",
       "└───────────┴───────────┴───────────┴───────────┴───┴───────────┴───────────┴───────────┴──────────┘"
      ]
     },
     "execution_count": 6,
     "metadata": {},
     "output_type": "execute_result"
    }
   ],
   "source": [
    "meta_df.null_count()"
   ]
  },
  {
   "cell_type": "code",
   "execution_count": 30,
   "id": "33b22a0c",
   "metadata": {},
   "outputs": [],
   "source": [
    "columns_to_drop = [\n",
    "    'Manufacturer', 'Product Dimensions', 'Item Weight', 'Item model number',\n",
    "    'Is Discontinued By Manufacturer', 'Brand', 'Color', 'Room Type',\n",
    "    'Material', 'Theme', 'Style', 'Age Range (Description)', 'Reusability',\n",
    "    'Pattern', 'Shape', 'Unit Count', 'Finish Type', 'Package Dimensions',\n",
    "    'Country of Origin', 'Best Sellers Rank', 'Other display features',\n",
    "    'Item Package Dimensions L x W x H', 'Package Weight',\n",
    "    'Item Dimensions  LxWxH', 'Brand Name', 'Suggested Users',\n",
    "    'Number of Items', 'Part Number', 'Model Year', 'Special features',\n",
    "    'Light Source Type', 'Magnification Maximum', 'Compatible Devices',\n",
    "    'Objective Lens Description', 'Power Source', 'Compatible Phone Models',\n",
    "    'Item Dimensions LxWxH', 'Hardware Platform', 'Operating System',\n",
    "    'Language', 'Format', 'Publication Date', 'Model number',\n",
    "    'Standing screen display size', 'Form Factor',\n",
    "    'Memory Storage Capacity', 'Hardware Interface',\n",
    "    'Connectivity Technology', 'Model Name', 'Speaker Type',\n",
    "    'Special Feature', 'Number of Channels', 'Media Format Digital Video',\n",
    "    'Hard Drive', 'Flash Memory Size', 'Hard Drive Interface',\n",
    "    'Digital Storage Capacity', 'Hard Disk Interface',\n",
    "    'Hard Disk Form Factor', 'Hard Disk Description', 'Hard Disk Size',\n",
    "    'Specific Uses For Product', 'Series', 'Hard Drive Rotational Speed',\n",
    "    'Hard Disk Rotational Speed', 'Surface Recommendation',\n",
    "    'Number of Pieces', 'Installation Type', 'Max Screen Resolution',\n",
    "    'Processor', 'RAM', 'Memory Speed', 'Graphics Coprocessor',\n",
    "    'Chipset Brand', 'Card Description', 'Graphics Card Ram Size',\n",
    "    'Number of USB 3.0 Ports', 'Processor Brand', 'Number of Processors',\n",
    "    'Computer Memory Type', 'Optical Drive Type', 'Screen Size', 'CPU Model',\n",
    "    'Ram Memory Installed Size', 'Lens Type', 'Compatible Mountings',\n",
    "    'Camera Lens Description', 'Maximum Focal Length', 'Subwoofer Diameter',\n",
    "    'Mounting Type', 'Surround Sound Channel Configuration', 'Is Waterproof',\n",
    "    'Film Format Type', 'Film Color', 'Exposure Control Type', 'Motor Type',\n",
    "    'Signal Format', 'Graphics Ram Size', 'Video Output Interface',\n",
    "    'Graphics Processor Manufacturer', 'Number of Keys', 'Switch Type',\n",
    "    'Antenna', 'Resolution', 'Display Technology', 'Orientation',\n",
    "    'Vehicle Service Type', 'Video Capture Resolution', 'Control Method',\n",
    "    'Size', 'Shell Type', 'Manufacturer Part Number', 'Display Size',\n",
    "    'Voice command', 'Human Interface Input', 'Are Batteries Included',\n",
    "    'Connector Type', 'Number of Ports', 'Item Package Quantity',\n",
    "    'Flash Memory Type', 'Handle Material', 'Grip Type', 'Connector Gender',\n",
    "    'Gauge', 'Batteries', 'Total USB Ports', 'Total HDMI Ports', 'Wattage',\n",
    "    'Power Connector Type', 'Voltage', 'Cooling Method',\n",
    "    'Maximum Rotational Speed', 'Batteries Required?', 'Screen Resolution',\n",
    "    'Wireless Type', 'Graphics Card Description', 'Display Type', 'Warranty',\n",
    "    'Frequency Range', 'Tuner Technology', 'Water Resistance Level',\n",
    "    'Wireless Communication Technology', 'Batteries Included?', 'Cable Type',\n",
    "    'Data Transfer Rate', 'Whats in the box', 'Controller Type',\n",
    "    'Recommended Uses For Product', 'Department', 'Number of USB 2.0 Ports',\n",
    "    'Average Battery Life (in hours)', 'Rear Webcam Resolution', 'CPU Speed',\n",
    "    'Minimum Focal Length', 'Output Voltage', 'Current Rating',\n",
    "    'Main Power Connector Type', 'Occasion', 'Product Care Instructions',\n",
    "    'Outer Material', 'Age Range Description', 'Cache Size',\n",
    "    'Operation Mode', 'Operating Voltage', 'Actuator Type',\n",
    "    'International Protection Rating', 'Mechanical Life Expectancy','details','features',\n",
    "    'description','price','categories']\n",
    "\n",
    "meta_df = meta_df.drop([col for col in columns_to_drop if col in meta_df.columns])\n"
   ]
  },
  {
   "cell_type": "code",
   "execution_count": 8,
   "id": "c0a61310",
   "metadata": {},
   "outputs": [
    {
     "data": {
      "text/plain": [
       "['main_category',\n",
       " 'product_title',\n",
       " 'product_average_rating',\n",
       " 'product_rating_number',\n",
       " 'store',\n",
       " 'categories',\n",
       " 'parent_asin',\n",
       " 'Date First Available']"
      ]
     },
     "execution_count": 8,
     "metadata": {},
     "output_type": "execute_result"
    }
   ],
   "source": [
    "meta_df.columns"
   ]
  },
  {
   "cell_type": "code",
   "execution_count": 31,
   "id": "a9eca3d3",
   "metadata": {},
   "outputs": [
    {
     "data": {
      "text/html": [
       "<div><style>\n",
       ".dataframe > thead > tr,\n",
       ".dataframe > tbody > tr {\n",
       "  text-align: right;\n",
       "  white-space: pre-wrap;\n",
       "}\n",
       "</style>\n",
       "<small>shape: (5, 8)</small><table border=\"1\" class=\"dataframe\"><thead><tr><th>main_category</th><th>product_title</th><th>product_average_rating</th><th>product_rating_number</th><th>store</th><th>parent_asin</th><th>Date First Available</th><th>sub_category</th></tr><tr><td>str</td><td>str</td><td>f64</td><td>i64</td><td>str</td><td>str</td><td>date</td><td>str</td></tr></thead><tbody><tr><td>&quot;All Electronics&quot;</td><td>&quot;FS-1051 FATSHARK TELEPORTER V3…</td><td>3.5</td><td>6</td><td>&quot;Fat Shark&quot;</td><td>&quot;B00MCW7G9M&quot;</td><td>2014-08-02</td><td>&quot;Television &amp; Video&quot;</td></tr><tr><td>&quot;All Electronics&quot;</td><td>&quot;Ce-H22B12-S1 4Kx2K Hdmi 4Port&quot;</td><td>5.0</td><td>1</td><td>&quot;SIIG&quot;</td><td>&quot;B00YT6XQSE&quot;</td><td>2015-06-03</td><td>&quot;Television &amp; Video&quot;</td></tr><tr><td>&quot;Computers&quot;</td><td>&quot;Digi-Tatoo Decal Skin Compatib…</td><td>4.5</td><td>246</td><td>&quot;Digi-Tatoo&quot;</td><td>&quot;B07SM135LS&quot;</td><td>2019-06-03</td><td>&quot;Computers &amp; Accessories&quot;</td></tr><tr><td>&quot;AMAZON FASHION&quot;</td><td>&quot;NotoCity Compatible with Vivoa…</td><td>4.5</td><td>233</td><td>&quot;NotoCity&quot;</td><td>&quot;B089CNGZCW&quot;</td><td>2020-05-29</td><td>&quot;Wearable Technology&quot;</td></tr><tr><td>&quot;Cell Phones &amp; Accessories&quot;</td><td>&quot;Motorola Droid X Essentials Co…</td><td>3.8</td><td>64</td><td>&quot;Verizon&quot;</td><td>&quot;B004E2Z88O&quot;</td><td>2010-11-26</td><td>&quot;Computers &amp; Accessories&quot;</td></tr></tbody></table></div>"
      ],
      "text/plain": [
       "shape: (5, 8)\n",
       "┌────────────┬────────────┬────────────┬───────────┬───────────┬───────────┬───────────┬───────────┐\n",
       "│ main_categ ┆ product_ti ┆ product_av ┆ product_r ┆ store     ┆ parent_as ┆ Date      ┆ sub_categ │\n",
       "│ ory        ┆ tle        ┆ erage_rati ┆ ating_num ┆ ---       ┆ in        ┆ First     ┆ ory       │\n",
       "│ ---        ┆ ---        ┆ ng         ┆ ber       ┆ str       ┆ ---       ┆ Available ┆ ---       │\n",
       "│ str        ┆ str        ┆ ---        ┆ ---       ┆           ┆ str       ┆ ---       ┆ str       │\n",
       "│            ┆            ┆ f64        ┆ i64       ┆           ┆           ┆ date      ┆           │\n",
       "╞════════════╪════════════╪════════════╪═══════════╪═══════════╪═══════════╪═══════════╪═══════════╡\n",
       "│ All Electr ┆ FS-1051    ┆ 3.5        ┆ 6         ┆ Fat Shark ┆ B00MCW7G9 ┆ 2014-08-0 ┆ Televisio │\n",
       "│ onics      ┆ FATSHARK   ┆            ┆           ┆           ┆ M         ┆ 2         ┆ n & Video │\n",
       "│            ┆ TELEPORTER ┆            ┆           ┆           ┆           ┆           ┆           │\n",
       "│            ┆ V3…        ┆            ┆           ┆           ┆           ┆           ┆           │\n",
       "│ All Electr ┆ Ce-H22B12- ┆ 5.0        ┆ 1         ┆ SIIG      ┆ B00YT6XQS ┆ 2015-06-0 ┆ Televisio │\n",
       "│ onics      ┆ S1 4Kx2K   ┆            ┆           ┆           ┆ E         ┆ 3         ┆ n & Video │\n",
       "│            ┆ Hdmi 4Port ┆            ┆           ┆           ┆           ┆           ┆           │\n",
       "│ Computers  ┆ Digi-Tatoo ┆ 4.5        ┆ 246       ┆ Digi-Tato ┆ B07SM135L ┆ 2019-06-0 ┆ Computers │\n",
       "│            ┆ Decal Skin ┆            ┆           ┆ o         ┆ S         ┆ 3         ┆ & Accesso │\n",
       "│            ┆ Compatib…  ┆            ┆           ┆           ┆           ┆           ┆ ries      │\n",
       "│ AMAZON     ┆ NotoCity   ┆ 4.5        ┆ 233       ┆ NotoCity  ┆ B089CNGZC ┆ 2020-05-2 ┆ Wearable  │\n",
       "│ FASHION    ┆ Compatible ┆            ┆           ┆           ┆ W         ┆ 9         ┆ Technolog │\n",
       "│            ┆ with       ┆            ┆           ┆           ┆           ┆           ┆ y         │\n",
       "│            ┆ Vivoa…     ┆            ┆           ┆           ┆           ┆           ┆           │\n",
       "│ Cell       ┆ Motorola   ┆ 3.8        ┆ 64        ┆ Verizon   ┆ B004E2Z88 ┆ 2010-11-2 ┆ Computers │\n",
       "│ Phones &   ┆ Droid X    ┆            ┆           ┆           ┆ O         ┆ 6         ┆ & Accesso │\n",
       "│ Accessorie ┆ Essentials ┆            ┆           ┆           ┆           ┆           ┆ ries      │\n",
       "│ s          ┆ Co…        ┆            ┆           ┆           ┆           ┆           ┆           │\n",
       "└────────────┴────────────┴────────────┴───────────┴───────────┴───────────┴───────────┴───────────┘"
      ]
     },
     "execution_count": 31,
     "metadata": {},
     "output_type": "execute_result"
    }
   ],
   "source": [
    "meta_df.head()"
   ]
  },
  {
   "cell_type": "code",
   "execution_count": 12,
   "id": "e312aa5e",
   "metadata": {},
   "outputs": [
    {
     "data": {
      "text/html": [
       "<div><style>\n",
       ".dataframe > thead > tr,\n",
       ".dataframe > tbody > tr {\n",
       "  text-align: right;\n",
       "  white-space: pre-wrap;\n",
       "}\n",
       "</style>\n",
       "<small>shape: (1, 8)</small><table border=\"1\" class=\"dataframe\"><thead><tr><th>main_category</th><th>product_title</th><th>product_average_rating</th><th>product_rating_number</th><th>store</th><th>categories</th><th>parent_asin</th><th>Date First Available</th></tr><tr><td>u32</td><td>u32</td><td>u32</td><td>u32</td><td>u32</td><td>u32</td><td>u32</td><td>u32</td></tr></thead><tbody><tr><td>0</td><td>0</td><td>0</td><td>0</td><td>0</td><td>0</td><td>0</td><td>0</td></tr></tbody></table></div>"
      ],
      "text/plain": [
       "shape: (1, 8)\n",
       "┌────────────┬────────────┬────────────┬────────────┬───────┬────────────┬────────────┬────────────┐\n",
       "│ main_categ ┆ product_ti ┆ product_av ┆ product_ra ┆ store ┆ categories ┆ parent_asi ┆ Date First │\n",
       "│ ory        ┆ tle        ┆ erage_rati ┆ ting_numbe ┆ ---   ┆ ---        ┆ n          ┆ Available  │\n",
       "│ ---        ┆ ---        ┆ ng         ┆ r          ┆ u32   ┆ u32        ┆ ---        ┆ ---        │\n",
       "│ u32        ┆ u32        ┆ ---        ┆ ---        ┆       ┆            ┆ u32        ┆ u32        │\n",
       "│            ┆            ┆ u32        ┆ u32        ┆       ┆            ┆            ┆            │\n",
       "╞════════════╪════════════╪════════════╪════════════╪═══════╪════════════╪════════════╪════════════╡\n",
       "│ 0          ┆ 0          ┆ 0          ┆ 0          ┆ 0     ┆ 0          ┆ 0          ┆ 0          │\n",
       "└────────────┴────────────┴────────────┴────────────┴───────┴────────────┴────────────┴────────────┘"
      ]
     },
     "execution_count": 12,
     "metadata": {},
     "output_type": "execute_result"
    }
   ],
   "source": [
    "meta_df.null_count()"
   ]
  },
  {
   "cell_type": "code",
   "execution_count": 15,
   "id": "695d5140",
   "metadata": {},
   "outputs": [
    {
     "data": {
      "text/plain": [
       "(1409293, 8)"
      ]
     },
     "execution_count": 15,
     "metadata": {},
     "output_type": "execute_result"
    }
   ],
   "source": [
    "meta_df.shape"
   ]
  },
  {
   "cell_type": "code",
   "execution_count": 32,
   "id": "fd0d4219",
   "metadata": {},
   "outputs": [],
   "source": [
    "meta_df.write_csv(r\"C:\\Users\\saarthak\\Desktop\\ResearcP\\meta_Electronics_cleaned1.csv\")"
   ]
  },
  {
   "cell_type": "code",
   "execution_count": 17,
   "id": "be235410",
   "metadata": {},
   "outputs": [],
   "source": [
    "meta_df = meta_df.drop_nulls(subset=[\"Date First Available\"])"
   ]
  },
  {
   "cell_type": "markdown",
   "id": "b5109ac2",
   "metadata": {},
   "source": [
    "From cateories column trying to extract subcategory then dropping categories column"
   ]
  },
  {
   "cell_type": "code",
   "execution_count": 18,
   "id": "e4297d75",
   "metadata": {},
   "outputs": [
    {
     "data": {
      "text/html": [
       "<div><style>\n",
       ".dataframe > thead > tr,\n",
       ".dataframe > tbody > tr {\n",
       "  text-align: right;\n",
       "  white-space: pre-wrap;\n",
       "}\n",
       "</style>\n",
       "<small>shape: (5, 8)</small><table border=\"1\" class=\"dataframe\"><thead><tr><th>main_category</th><th>product_title</th><th>product_average_rating</th><th>product_rating_number</th><th>store</th><th>categories</th><th>parent_asin</th><th>Date First Available</th></tr><tr><td>str</td><td>str</td><td>f64</td><td>i64</td><td>str</td><td>str</td><td>str</td><td>date</td></tr></thead><tbody><tr><td>&quot;All Electronics&quot;</td><td>&quot;FS-1051 FATSHARK TELEPORTER V3…</td><td>3.5</td><td>6</td><td>&quot;Fat Shark&quot;</td><td>&quot;[&#x27;Electronics&#x27;, &#x27;Television &amp; …</td><td>&quot;B00MCW7G9M&quot;</td><td>2014-08-02</td></tr><tr><td>&quot;All Electronics&quot;</td><td>&quot;Ce-H22B12-S1 4Kx2K Hdmi 4Port&quot;</td><td>5.0</td><td>1</td><td>&quot;SIIG&quot;</td><td>&quot;[&#x27;Electronics&#x27;, &#x27;Television &amp; …</td><td>&quot;B00YT6XQSE&quot;</td><td>2015-06-03</td></tr><tr><td>&quot;Computers&quot;</td><td>&quot;Digi-Tatoo Decal Skin Compatib…</td><td>4.5</td><td>246</td><td>&quot;Digi-Tatoo&quot;</td><td>&quot;[&#x27;Electronics&#x27;, &#x27;Computers &amp; A…</td><td>&quot;B07SM135LS&quot;</td><td>2019-06-03</td></tr><tr><td>&quot;AMAZON FASHION&quot;</td><td>&quot;NotoCity Compatible with Vivoa…</td><td>4.5</td><td>233</td><td>&quot;NotoCity&quot;</td><td>&quot;[&#x27;Electronics&#x27;, &#x27;Wearable Tech…</td><td>&quot;B089CNGZCW&quot;</td><td>2020-05-29</td></tr><tr><td>&quot;Cell Phones &amp; Accessories&quot;</td><td>&quot;Motorola Droid X Essentials Co…</td><td>3.8</td><td>64</td><td>&quot;Verizon&quot;</td><td>&quot;[&#x27;Electronics&#x27;, &#x27;Computers &amp; A…</td><td>&quot;B004E2Z88O&quot;</td><td>2010-11-26</td></tr></tbody></table></div>"
      ],
      "text/plain": [
       "shape: (5, 8)\n",
       "┌────────────┬────────────┬────────────┬───────────┬───────────┬───────────┬───────────┬───────────┐\n",
       "│ main_categ ┆ product_ti ┆ product_av ┆ product_r ┆ store     ┆ categorie ┆ parent_as ┆ Date      │\n",
       "│ ory        ┆ tle        ┆ erage_rati ┆ ating_num ┆ ---       ┆ s         ┆ in        ┆ First     │\n",
       "│ ---        ┆ ---        ┆ ng         ┆ ber       ┆ str       ┆ ---       ┆ ---       ┆ Available │\n",
       "│ str        ┆ str        ┆ ---        ┆ ---       ┆           ┆ str       ┆ str       ┆ ---       │\n",
       "│            ┆            ┆ f64        ┆ i64       ┆           ┆           ┆           ┆ date      │\n",
       "╞════════════╪════════════╪════════════╪═══════════╪═══════════╪═══════════╪═══════════╪═══════════╡\n",
       "│ All Electr ┆ FS-1051    ┆ 3.5        ┆ 6         ┆ Fat Shark ┆ ['Electro ┆ B00MCW7G9 ┆ 2014-08-0 │\n",
       "│ onics      ┆ FATSHARK   ┆            ┆           ┆           ┆ nics',    ┆ M         ┆ 2         │\n",
       "│            ┆ TELEPORTER ┆            ┆           ┆           ┆ 'Televisi ┆           ┆           │\n",
       "│            ┆ V3…        ┆            ┆           ┆           ┆ on & …    ┆           ┆           │\n",
       "│ All Electr ┆ Ce-H22B12- ┆ 5.0        ┆ 1         ┆ SIIG      ┆ ['Electro ┆ B00YT6XQS ┆ 2015-06-0 │\n",
       "│ onics      ┆ S1 4Kx2K   ┆            ┆           ┆           ┆ nics',    ┆ E         ┆ 3         │\n",
       "│            ┆ Hdmi 4Port ┆            ┆           ┆           ┆ 'Televisi ┆           ┆           │\n",
       "│            ┆            ┆            ┆           ┆           ┆ on & …    ┆           ┆           │\n",
       "│ Computers  ┆ Digi-Tatoo ┆ 4.5        ┆ 246       ┆ Digi-Tato ┆ ['Electro ┆ B07SM135L ┆ 2019-06-0 │\n",
       "│            ┆ Decal Skin ┆            ┆           ┆ o         ┆ nics',    ┆ S         ┆ 3         │\n",
       "│            ┆ Compatib…  ┆            ┆           ┆           ┆ 'Computer ┆           ┆           │\n",
       "│            ┆            ┆            ┆           ┆           ┆ s & A…    ┆           ┆           │\n",
       "│ AMAZON     ┆ NotoCity   ┆ 4.5        ┆ 233       ┆ NotoCity  ┆ ['Electro ┆ B089CNGZC ┆ 2020-05-2 │\n",
       "│ FASHION    ┆ Compatible ┆            ┆           ┆           ┆ nics',    ┆ W         ┆ 9         │\n",
       "│            ┆ with       ┆            ┆           ┆           ┆ 'Wearable ┆           ┆           │\n",
       "│            ┆ Vivoa…     ┆            ┆           ┆           ┆ Tech…     ┆           ┆           │\n",
       "│ Cell       ┆ Motorola   ┆ 3.8        ┆ 64        ┆ Verizon   ┆ ['Electro ┆ B004E2Z88 ┆ 2010-11-2 │\n",
       "│ Phones &   ┆ Droid X    ┆            ┆           ┆           ┆ nics',    ┆ O         ┆ 6         │\n",
       "│ Accessorie ┆ Essentials ┆            ┆           ┆           ┆ 'Computer ┆           ┆           │\n",
       "│ s          ┆ Co…        ┆            ┆           ┆           ┆ s & A…    ┆           ┆           │\n",
       "└────────────┴────────────┴────────────┴───────────┴───────────┴───────────┴───────────┴───────────┘"
      ]
     },
     "execution_count": 18,
     "metadata": {},
     "output_type": "execute_result"
    }
   ],
   "source": [
    "meta_df.head()"
   ]
  },
  {
   "cell_type": "code",
   "execution_count": 28,
   "id": "9f15dda7",
   "metadata": {},
   "outputs": [
    {
     "name": "stdout",
     "output_type": "stream",
     "text": [
      "shape: (5, 2)\n",
      "┌─────────────────────────────────┬─────────────────────────┐\n",
      "│ categories                      ┆ sub_category            │\n",
      "│ ---                             ┆ ---                     │\n",
      "│ str                             ┆ str                     │\n",
      "╞═════════════════════════════════╪═════════════════════════╡\n",
      "│ ['Electronics', 'Television & … ┆ Television & Video      │\n",
      "│ ['Electronics', 'Television & … ┆ Television & Video      │\n",
      "│ ['Electronics', 'Computers & A… ┆ Computers & Accessories │\n",
      "│ ['Electronics', 'Wearable Tech… ┆ Wearable Technology     │\n",
      "│ ['Electronics', 'Computers & A… ┆ Computers & Accessories │\n",
      "└─────────────────────────────────┴─────────────────────────┘\n"
     ]
    }
   ],
   "source": [
    "def extract_subcat(s):\n",
    "    try:\n",
    "        lst = ast.literal_eval(s)\n",
    "        if isinstance(lst, list) and len(lst) > 1:\n",
    "            return lst[1]\n",
    "    except Exception:\n",
    "        pass\n",
    "    return None\n",
    "\n",
    "meta_df = meta_df.with_columns([\n",
    "    pl.col(\"categories\")\n",
    "      .map_elements(extract_subcat, return_dtype=pl.Utf8)\n",
    "      .alias(\"sub_category\")\n",
    "])\n",
    "\n",
    "print(meta_df.select([\"categories\", \"sub_category\"]).head())"
   ]
  },
  {
   "cell_type": "code",
   "execution_count": 12,
   "id": "920e7ccf",
   "metadata": {},
   "outputs": [
    {
     "data": {
      "text/html": [
       "<div><style>\n",
       ".dataframe > thead > tr,\n",
       ".dataframe > tbody > tr {\n",
       "  text-align: right;\n",
       "  white-space: pre-wrap;\n",
       "}\n",
       "</style>\n",
       "<small>shape: (1, 9)</small><table border=\"1\" class=\"dataframe\"><thead><tr><th>review_rating</th><th>review_title</th><th>review_text</th><th>asin</th><th>parent_asin</th><th>user_id</th><th>timestamp</th><th>helpful_vote</th><th>verified_purchase</th></tr><tr><td>u32</td><td>u32</td><td>u32</td><td>u32</td><td>u32</td><td>u32</td><td>u32</td><td>u32</td><td>u32</td></tr></thead><tbody><tr><td>0</td><td>1</td><td>2534</td><td>0</td><td>0</td><td>0</td><td>0</td><td>0</td><td>0</td></tr></tbody></table></div>"
      ],
      "text/plain": [
       "shape: (1, 9)\n",
       "┌─────────────┬────────────┬────────────┬──────┬───┬─────────┬───────────┬────────────┬────────────┐\n",
       "│ review_rati ┆ review_tit ┆ review_tex ┆ asin ┆ … ┆ user_id ┆ timestamp ┆ helpful_vo ┆ verified_p │\n",
       "│ ng          ┆ le         ┆ t          ┆ ---  ┆   ┆ ---     ┆ ---       ┆ te         ┆ urchase    │\n",
       "│ ---         ┆ ---        ┆ ---        ┆ u32  ┆   ┆ u32     ┆ u32       ┆ ---        ┆ ---        │\n",
       "│ u32         ┆ u32        ┆ u32        ┆      ┆   ┆         ┆           ┆ u32        ┆ u32        │\n",
       "╞═════════════╪════════════╪════════════╪══════╪═══╪═════════╪═══════════╪════════════╪════════════╡\n",
       "│ 0           ┆ 1          ┆ 2534       ┆ 0    ┆ … ┆ 0       ┆ 0         ┆ 0          ┆ 0          │\n",
       "└─────────────┴────────────┴────────────┴──────┴───┴─────────┴───────────┴────────────┴────────────┘"
      ]
     },
     "execution_count": 12,
     "metadata": {},
     "output_type": "execute_result"
    }
   ],
   "source": [
    "review_df.null_count()"
   ]
  },
  {
   "cell_type": "code",
   "execution_count": null,
   "id": "4322245e",
   "metadata": {},
   "outputs": [],
   "source": [
    "review_df = review_df.filter(pl.col(\"review_text\").is_not_null())\n",
    "review_df = review_df.filter(pl.col(\"review_title\").is_not_null())"
   ]
  },
  {
   "cell_type": "code",
   "execution_count": 15,
   "id": "a946e297",
   "metadata": {},
   "outputs": [
    {
     "data": {
      "text/html": [
       "<div><style>\n",
       ".dataframe > thead > tr,\n",
       ".dataframe > tbody > tr {\n",
       "  text-align: right;\n",
       "  white-space: pre-wrap;\n",
       "}\n",
       "</style>\n",
       "<small>shape: (1, 9)</small><table border=\"1\" class=\"dataframe\"><thead><tr><th>review_rating</th><th>review_title</th><th>review_text</th><th>asin</th><th>parent_asin</th><th>user_id</th><th>timestamp</th><th>helpful_vote</th><th>verified_purchase</th></tr><tr><td>u32</td><td>u32</td><td>u32</td><td>u32</td><td>u32</td><td>u32</td><td>u32</td><td>u32</td><td>u32</td></tr></thead><tbody><tr><td>0</td><td>0</td><td>0</td><td>0</td><td>0</td><td>0</td><td>0</td><td>0</td><td>0</td></tr></tbody></table></div>"
      ],
      "text/plain": [
       "shape: (1, 9)\n",
       "┌─────────────┬────────────┬────────────┬──────┬───┬─────────┬───────────┬────────────┬────────────┐\n",
       "│ review_rati ┆ review_tit ┆ review_tex ┆ asin ┆ … ┆ user_id ┆ timestamp ┆ helpful_vo ┆ verified_p │\n",
       "│ ng          ┆ le         ┆ t          ┆ ---  ┆   ┆ ---     ┆ ---       ┆ te         ┆ urchase    │\n",
       "│ ---         ┆ ---        ┆ ---        ┆ u32  ┆   ┆ u32     ┆ u32       ┆ ---        ┆ ---        │\n",
       "│ u32         ┆ u32        ┆ u32        ┆      ┆   ┆         ┆           ┆ u32        ┆ u32        │\n",
       "╞═════════════╪════════════╪════════════╪══════╪═══╪═════════╪═══════════╪════════════╪════════════╡\n",
       "│ 0           ┆ 0          ┆ 0          ┆ 0    ┆ … ┆ 0       ┆ 0         ┆ 0          ┆ 0          │\n",
       "└─────────────┴────────────┴────────────┴──────┴───┴─────────┴───────────┴────────────┴────────────┘"
      ]
     },
     "execution_count": 15,
     "metadata": {},
     "output_type": "execute_result"
    }
   ],
   "source": [
    "review_df.null_count()"
   ]
  },
  {
   "cell_type": "code",
   "execution_count": null,
   "id": "ccae6db8",
   "metadata": {},
   "outputs": [],
   "source": [
    "meta_df.write_csv(r\"C:\\Users\\saarthak\\Desktop\\ResearcP\\meta_Electronics_cleaned1.csv\")"
   ]
  },
  {
   "cell_type": "code",
   "execution_count": null,
   "id": "67f77e18",
   "metadata": {},
   "outputs": [],
   "source": [
    "review_df.write_csv(r\"C:\\Users\\saarthak\\Desktop\\ResearcP\\Electronics_cleaned1.csv\")"
   ]
  },
  {
   "cell_type": "markdown",
   "id": "f2184dc3",
   "metadata": {},
   "source": [
    "Joined both review and meta file on the basis of parent_asin"
   ]
  },
  {
   "cell_type": "code",
   "execution_count": null,
   "id": "a9063ade",
   "metadata": {},
   "outputs": [],
   "source": [
    "review_path = r\"C:\\Users\\saarthak\\Desktop\\ResearcP\\Electronics_cleaned1.csv\"\n",
    "meta_path   = r\"C:\\Users\\saarthak\\Desktop\\ResearcP\\meta_Electronics_cleaned1.csv\"\n",
    "out_csv     = r\"joined_output.csv\""
   ]
  },
  {
   "cell_type": "code",
   "execution_count": 2,
   "id": "984cd747",
   "metadata": {},
   "outputs": [],
   "source": [
    "reviews_lazy = pl.scan_csv(review_path)\n",
    "meta_lazy    = pl.scan_csv(meta_path)\n",
    "\n",
    "joined_lazy = reviews_lazy.join(\n",
    "    meta_lazy,\n",
    "    on=\"parent_asin\",\n",
    "    how=\"inner\" \n",
    ")\n",
    "\n",
    "joined_lazy.sink_csv(out_csv)"
   ]
  },
  {
   "cell_type": "code",
   "execution_count": null,
   "id": "1e01bcb0",
   "metadata": {},
   "outputs": [
    {
     "data": {
      "text/html": [
       "<div><style>\n",
       ".dataframe > thead > tr,\n",
       ".dataframe > tbody > tr {\n",
       "  text-align: right;\n",
       "  white-space: pre-wrap;\n",
       "}\n",
       "</style>\n",
       "<small>shape: (5, 16)</small><table border=\"1\" class=\"dataframe\"><thead><tr><th>review_rating</th><th>review_title</th><th>review_text</th><th>asin</th><th>parent_asin</th><th>user_id</th><th>timestamp</th><th>helpful_vote</th><th>verified_purchase</th><th>main_category</th><th>product_title</th><th>product_average_rating</th><th>product_rating_number</th><th>store</th><th>Date First Available</th><th>sub_category</th></tr><tr><td>f64</td><td>str</td><td>str</td><td>str</td><td>str</td><td>str</td><td>str</td><td>i64</td><td>bool</td><td>str</td><td>str</td><td>f64</td><td>i64</td><td>str</td><td>str</td><td>str</td></tr></thead><tbody><tr><td>5.0</td><td>&quot;cute for photos!&quot;</td><td>&quot;thin material but perfect to h…</td><td>&quot;B07RJHQSGB&quot;</td><td>&quot;B09NHSGWPD&quot;</td><td>&quot;AE74DYR3QUGVPZJ3P7RFWBGIX7XQ&quot;</td><td>&quot;2021-11-02T16:22:59.357&quot;</td><td>0</td><td>true</td><td>&quot;Camera &amp; Photo&quot;</td><td>&quot;BELECO 7x5ft Fabric Cowboys Ph…</td><td>4.7</td><td>101</td><td>&quot;BELECO&quot;</td><td>&quot;2019-05-04&quot;</td><td>&quot;Camera &amp; Photo&quot;</td></tr><tr><td>5.0</td><td>&quot;great cover and protection&quot;</td><td>&quot;fits my macbook air perfectly!…</td><td>&quot;B06VTQK7CB&quot;</td><td>&quot;B06VTQK7CB&quot;</td><td>&quot;AHITBJSS7KYUBVZPX7M2WJCOIVKQ&quot;</td><td>&quot;2019-06-08T17:16:26.774&quot;</td><td>0</td><td>true</td><td>&quot;Computers&quot;</td><td>&quot;MOSISO Compatible with MacBook…</td><td>4.4</td><td>1020</td><td>&quot;MOSISO&quot;</td><td>&quot;2017-02-13&quot;</td><td>&quot;Computers &amp; Accessories&quot;</td></tr><tr><td>4.0</td><td>&quot;asurion 2 year portable electr…</td><td>&quot;good to have security just in …</td><td>&quot;B07P97SHQP&quot;</td><td>&quot;B07P97SHQP&quot;</td><td>&quot;AEFKF6R2GUSK2AWPSWRR4ZO36JVQ&quot;</td><td>&quot;2020-12-03T06:17:22.921&quot;</td><td>0</td><td>true</td><td>&quot;All Electronics&quot;</td><td>&quot;ASURION 2 Year Portable Electr…</td><td>4.5</td><td>1807</td><td>&quot;ASURION&quot;</td><td>&quot;2019-02-28&quot;</td><td>&quot;Electronics Warranties&quot;</td></tr><tr><td>5.0</td><td>&quot;male to male svga cable&quot;</td><td>&quot;great item for the price; alre…</td><td>&quot;B0031VXJ7G&quot;</td><td>&quot;B07CDCX945&quot;</td><td>&quot;AEFKF6R2GUSK2AWPSWRR4ZO36JVQ&quot;</td><td>&quot;2013-02-07T10:55:53.000&quot;</td><td>0</td><td>true</td><td>&quot;Computers&quot;</td><td>&quot;Cmple - VGA SVGA Cable Gold Pl…</td><td>4.4</td><td>461</td><td>&quot;Cmple&quot;</td><td>&quot;2009-12-24&quot;</td><td>&quot;Computers &amp; Accessories&quot;</td></tr><tr><td>5.0</td><td>&quot;great small speaker.&nbsp;&nbsp;good sou…</td><td>&quot;this is a great little speaker…</td><td>&quot;B01MTB55WH&quot;</td><td>&quot;B0B3T4JWN9&quot;</td><td>&quot;AHCPZDDPHJE3G7M6ST5WGRPLXHOA&quot;</td><td>&quot;2020-07-15T10:30:04.571&quot;</td><td>0</td><td>true</td><td>&quot;Home Audio &amp; Theater&quot;</td><td>&quot;Anker Soundcore 2 12W Portable…</td><td>4.6</td><td>110144</td><td>&quot;Anker&quot;</td><td>&quot;2017-11-24&quot;</td><td>&quot;Portable Audio &amp; Video&quot;</td></tr></tbody></table></div>"
      ],
      "text/plain": [
       "shape: (5, 16)\n",
       "┌────────────┬───────────┬───────────┬───────────┬───┬───────────┬─────────┬───────────┬───────────┐\n",
       "│ review_rat ┆ review_ti ┆ review_te ┆ asin      ┆ … ┆ product_r ┆ store   ┆ Date      ┆ sub_categ │\n",
       "│ ing        ┆ tle       ┆ xt        ┆ ---       ┆   ┆ ating_num ┆ ---     ┆ First     ┆ ory       │\n",
       "│ ---        ┆ ---       ┆ ---       ┆ str       ┆   ┆ ber       ┆ str     ┆ Available ┆ ---       │\n",
       "│ f64        ┆ str       ┆ str       ┆           ┆   ┆ ---       ┆         ┆ ---       ┆ str       │\n",
       "│            ┆           ┆           ┆           ┆   ┆ i64       ┆         ┆ str       ┆           │\n",
       "╞════════════╪═══════════╪═══════════╪═══════════╪═══╪═══════════╪═════════╪═══════════╪═══════════╡\n",
       "│ 5.0        ┆ cute for  ┆ thin      ┆ B07RJHQSG ┆ … ┆ 101       ┆ BELECO  ┆ 2019-05-0 ┆ Camera &  │\n",
       "│            ┆ photos!   ┆ material  ┆ B         ┆   ┆           ┆         ┆ 4         ┆ Photo     │\n",
       "│            ┆           ┆ but       ┆           ┆   ┆           ┆         ┆           ┆           │\n",
       "│            ┆           ┆ perfect   ┆           ┆   ┆           ┆         ┆           ┆           │\n",
       "│            ┆           ┆ to h…     ┆           ┆   ┆           ┆         ┆           ┆           │\n",
       "│ 5.0        ┆ great     ┆ fits my   ┆ B06VTQK7C ┆ … ┆ 1020      ┆ MOSISO  ┆ 2017-02-1 ┆ Computers │\n",
       "│            ┆ cover and ┆ macbook   ┆ B         ┆   ┆           ┆         ┆ 3         ┆ & Accesso │\n",
       "│            ┆ protectio ┆ air perfe ┆           ┆   ┆           ┆         ┆           ┆ ries      │\n",
       "│            ┆ n         ┆ ctly!…    ┆           ┆   ┆           ┆         ┆           ┆           │\n",
       "│ 4.0        ┆ asurion 2 ┆ good to   ┆ B07P97SHQ ┆ … ┆ 1807      ┆ ASURION ┆ 2019-02-2 ┆ Electroni │\n",
       "│            ┆ year      ┆ have      ┆ P         ┆   ┆           ┆         ┆ 8         ┆ cs Warran │\n",
       "│            ┆ portable  ┆ security  ┆           ┆   ┆           ┆         ┆           ┆ ties      │\n",
       "│            ┆ electr…   ┆ just in … ┆           ┆   ┆           ┆         ┆           ┆           │\n",
       "│ 5.0        ┆ male to   ┆ great     ┆ B0031VXJ7 ┆ … ┆ 461       ┆ Cmple   ┆ 2009-12-2 ┆ Computers │\n",
       "│            ┆ male svga ┆ item for  ┆ G         ┆   ┆           ┆         ┆ 4         ┆ & Accesso │\n",
       "│            ┆ cable     ┆ the       ┆           ┆   ┆           ┆         ┆           ┆ ries      │\n",
       "│            ┆           ┆ price;    ┆           ┆   ┆           ┆         ┆           ┆           │\n",
       "│            ┆           ┆ alre…     ┆           ┆   ┆           ┆         ┆           ┆           │\n",
       "│ 5.0        ┆ great     ┆ this is a ┆ B01MTB55W ┆ … ┆ 110144    ┆ Anker   ┆ 2017-11-2 ┆ Portable  │\n",
       "│            ┆ small     ┆ great     ┆ H         ┆   ┆           ┆         ┆ 4         ┆ Audio &   │\n",
       "│            ┆ speaker.  ┆ little    ┆           ┆   ┆           ┆         ┆           ┆ Video     │\n",
       "│            ┆ good sou… ┆ speaker…  ┆           ┆   ┆           ┆         ┆           ┆           │\n",
       "└────────────┴───────────┴───────────┴───────────┴───┴───────────┴─────────┴───────────┴───────────┘"
      ]
     },
     "execution_count": 2,
     "metadata": {},
     "output_type": "execute_result"
    }
   ],
   "source": [
    "joined_df=pl.read_csv(r\"joined_output.csv\")\n",
    "joined_df.head()"
   ]
  },
  {
   "cell_type": "code",
   "execution_count": 3,
   "id": "48bf8501",
   "metadata": {},
   "outputs": [
    {
     "data": {
      "text/html": [
       "<div><style>\n",
       ".dataframe > thead > tr,\n",
       ".dataframe > tbody > tr {\n",
       "  text-align: right;\n",
       "  white-space: pre-wrap;\n",
       "}\n",
       "</style>\n",
       "<small>shape: (1, 16)</small><table border=\"1\" class=\"dataframe\"><thead><tr><th>review_rating</th><th>review_title</th><th>review_text</th><th>asin</th><th>parent_asin</th><th>user_id</th><th>timestamp</th><th>helpful_vote</th><th>verified_purchase</th><th>main_category</th><th>product_title</th><th>product_average_rating</th><th>product_rating_number</th><th>store</th><th>Date First Available</th><th>sub_category</th></tr><tr><td>u32</td><td>u32</td><td>u32</td><td>u32</td><td>u32</td><td>u32</td><td>u32</td><td>u32</td><td>u32</td><td>u32</td><td>u32</td><td>u32</td><td>u32</td><td>u32</td><td>u32</td><td>u32</td></tr></thead><tbody><tr><td>0</td><td>0</td><td>0</td><td>0</td><td>0</td><td>0</td><td>0</td><td>0</td><td>0</td><td>0</td><td>0</td><td>0</td><td>0</td><td>0</td><td>0</td><td>1087984</td></tr></tbody></table></div>"
      ],
      "text/plain": [
       "shape: (1, 16)\n",
       "┌─────────────┬─────────────┬────────────┬──────┬───┬────────────┬───────┬────────────┬────────────┐\n",
       "│ review_rati ┆ review_titl ┆ review_tex ┆ asin ┆ … ┆ product_ra ┆ store ┆ Date First ┆ sub_catego │\n",
       "│ ng          ┆ e           ┆ t          ┆ ---  ┆   ┆ ting_numbe ┆ ---   ┆ Available  ┆ ry         │\n",
       "│ ---         ┆ ---         ┆ ---        ┆ u32  ┆   ┆ r          ┆ u32   ┆ ---        ┆ ---        │\n",
       "│ u32         ┆ u32         ┆ u32        ┆      ┆   ┆ ---        ┆       ┆ u32        ┆ u32        │\n",
       "│             ┆             ┆            ┆      ┆   ┆ u32        ┆       ┆            ┆            │\n",
       "╞═════════════╪═════════════╪════════════╪══════╪═══╪════════════╪═══════╪════════════╪════════════╡\n",
       "│ 0           ┆ 0           ┆ 0          ┆ 0    ┆ … ┆ 0          ┆ 0     ┆ 0          ┆ 1087984    │\n",
       "└─────────────┴─────────────┴────────────┴──────┴───┴────────────┴───────┴────────────┴────────────┘"
      ]
     },
     "execution_count": 3,
     "metadata": {},
     "output_type": "execute_result"
    }
   ],
   "source": [
    "joined_df.null_count()"
   ]
  },
  {
   "cell_type": "code",
   "execution_count": 4,
   "id": "9b8bed34",
   "metadata": {},
   "outputs": [
    {
     "data": {
      "text/plain": [
       "(38200208, 16)"
      ]
     },
     "execution_count": 4,
     "metadata": {},
     "output_type": "execute_result"
    }
   ],
   "source": [
    "joined_df.shape"
   ]
  },
  {
   "cell_type": "markdown",
   "id": "e600e4e8",
   "metadata": {},
   "source": [
    "Dropping Nulls and removing products which have less than 1000 ratings and whose verified purchase returns to be true "
   ]
  },
  {
   "cell_type": "code",
   "execution_count": 5,
   "id": "cd66b700",
   "metadata": {},
   "outputs": [],
   "source": [
    "joined_df = joined_df.drop_nulls(subset=[\"sub_category\"])"
   ]
  },
  {
   "cell_type": "code",
   "execution_count": 7,
   "id": "66dfd1bb",
   "metadata": {},
   "outputs": [],
   "source": [
    "joined_df = joined_df.filter(\n",
    "    (pl.col(\"product_rating_number\") > 1000) & (pl.col(\"verified_purchase\") == True))"
   ]
  },
  {
   "cell_type": "code",
   "execution_count": 8,
   "id": "f523ce7d",
   "metadata": {},
   "outputs": [
    {
     "data": {
      "text/html": [
       "<div><style>\n",
       ".dataframe > thead > tr,\n",
       ".dataframe > tbody > tr {\n",
       "  text-align: right;\n",
       "  white-space: pre-wrap;\n",
       "}\n",
       "</style>\n",
       "<small>shape: (5, 16)</small><table border=\"1\" class=\"dataframe\"><thead><tr><th>review_rating</th><th>review_title</th><th>review_text</th><th>asin</th><th>parent_asin</th><th>user_id</th><th>timestamp</th><th>helpful_vote</th><th>verified_purchase</th><th>main_category</th><th>product_title</th><th>product_average_rating</th><th>product_rating_number</th><th>store</th><th>Date First Available</th><th>sub_category</th></tr><tr><td>f64</td><td>str</td><td>str</td><td>str</td><td>str</td><td>str</td><td>datetime[ms]</td><td>i64</td><td>bool</td><td>str</td><td>str</td><td>f64</td><td>i64</td><td>str</td><td>str</td><td>str</td></tr></thead><tbody><tr><td>5.0</td><td>&quot;great cover and protection&quot;</td><td>&quot;fits my macbook air perfectly!…</td><td>&quot;B06VTQK7CB&quot;</td><td>&quot;B06VTQK7CB&quot;</td><td>&quot;AHITBJSS7KYUBVZPX7M2WJCOIVKQ&quot;</td><td>2019-06-08 17:16:26.774</td><td>0</td><td>true</td><td>&quot;Computers&quot;</td><td>&quot;MOSISO Compatible with MacBook…</td><td>4.4</td><td>1020</td><td>&quot;MOSISO&quot;</td><td>&quot;2017-02-13&quot;</td><td>&quot;Computers &amp; Accessories&quot;</td></tr><tr><td>4.0</td><td>&quot;asurion 2 year portable electr…</td><td>&quot;good to have security just in …</td><td>&quot;B07P97SHQP&quot;</td><td>&quot;B07P97SHQP&quot;</td><td>&quot;AEFKF6R2GUSK2AWPSWRR4ZO36JVQ&quot;</td><td>2020-12-03 06:17:22.921</td><td>0</td><td>true</td><td>&quot;All Electronics&quot;</td><td>&quot;ASURION 2 Year Portable Electr…</td><td>4.5</td><td>1807</td><td>&quot;ASURION&quot;</td><td>&quot;2019-02-28&quot;</td><td>&quot;Electronics Warranties&quot;</td></tr><tr><td>5.0</td><td>&quot;great small speaker.&nbsp;&nbsp;good sou…</td><td>&quot;this is a great little speaker…</td><td>&quot;B01MTB55WH&quot;</td><td>&quot;B0B3T4JWN9&quot;</td><td>&quot;AHCPZDDPHJE3G7M6ST5WGRPLXHOA&quot;</td><td>2020-07-15 10:30:04.571</td><td>0</td><td>true</td><td>&quot;Home Audio &amp; Theater&quot;</td><td>&quot;Anker Soundcore 2 12W Portable…</td><td>4.6</td><td>110144</td><td>&quot;Anker&quot;</td><td>&quot;2017-11-24&quot;</td><td>&quot;Portable Audio &amp; Video&quot;</td></tr><tr><td>5.0</td><td>&quot;down in da boot, it is what ya…</td><td>&quot;riding out hurricanes is not s…</td><td>&quot;B003A21DQA&quot;</td><td>&quot;B00E0ISVLI&quot;</td><td>&quot;AH6PLOGWYIVIWLJTY756BHNFD4YA&quot;</td><td>2022-02-19 17:14:14.067</td><td>1</td><td>true</td><td>&quot;Home Audio &amp; Theater&quot;</td><td>&quot;Kaito KA500 5-way Powered Emer…</td><td>4.6</td><td>12083</td><td>&quot;Kaito&quot;</td><td>&quot;2004-09-01&quot;</td><td>&quot;Portable Audio &amp; Video&quot;</td></tr><tr><td>5.0</td><td>&quot;... in my sewing room and this…</td><td>&quot;needed a tv in my sewing room …</td><td>&quot;B00KSBB7EY&quot;</td><td>&quot;B00KSBB7EY&quot;</td><td>&quot;AGCIVNDDRX3PXIUINEG4NCRGWCRA&quot;</td><td>2015-03-23 17:12:42</td><td>1</td><td>true</td><td>&quot;All Electronics&quot;</td><td>&quot;Samsung UN24H4500 24-Inch 720p…</td><td>4.4</td><td>1245</td><td>&quot;SAMSUNG&quot;</td><td>&quot;2014-07-13&quot;</td><td>&quot;Television &amp; Video&quot;</td></tr></tbody></table></div>"
      ],
      "text/plain": [
       "shape: (5, 16)\n",
       "┌────────────┬───────────┬───────────┬───────────┬───┬───────────┬─────────┬───────────┬───────────┐\n",
       "│ review_rat ┆ review_ti ┆ review_te ┆ asin      ┆ … ┆ product_r ┆ store   ┆ Date      ┆ sub_categ │\n",
       "│ ing        ┆ tle       ┆ xt        ┆ ---       ┆   ┆ ating_num ┆ ---     ┆ First     ┆ ory       │\n",
       "│ ---        ┆ ---       ┆ ---       ┆ str       ┆   ┆ ber       ┆ str     ┆ Available ┆ ---       │\n",
       "│ f64        ┆ str       ┆ str       ┆           ┆   ┆ ---       ┆         ┆ ---       ┆ str       │\n",
       "│            ┆           ┆           ┆           ┆   ┆ i64       ┆         ┆ str       ┆           │\n",
       "╞════════════╪═══════════╪═══════════╪═══════════╪═══╪═══════════╪═════════╪═══════════╪═══════════╡\n",
       "│ 5.0        ┆ great     ┆ fits my   ┆ B06VTQK7C ┆ … ┆ 1020      ┆ MOSISO  ┆ 2017-02-1 ┆ Computers │\n",
       "│            ┆ cover and ┆ macbook   ┆ B         ┆   ┆           ┆         ┆ 3         ┆ & Accesso │\n",
       "│            ┆ protectio ┆ air perfe ┆           ┆   ┆           ┆         ┆           ┆ ries      │\n",
       "│            ┆ n         ┆ ctly!…    ┆           ┆   ┆           ┆         ┆           ┆           │\n",
       "│ 4.0        ┆ asurion 2 ┆ good to   ┆ B07P97SHQ ┆ … ┆ 1807      ┆ ASURION ┆ 2019-02-2 ┆ Electroni │\n",
       "│            ┆ year      ┆ have      ┆ P         ┆   ┆           ┆         ┆ 8         ┆ cs Warran │\n",
       "│            ┆ portable  ┆ security  ┆           ┆   ┆           ┆         ┆           ┆ ties      │\n",
       "│            ┆ electr…   ┆ just in … ┆           ┆   ┆           ┆         ┆           ┆           │\n",
       "│ 5.0        ┆ great     ┆ this is a ┆ B01MTB55W ┆ … ┆ 110144    ┆ Anker   ┆ 2017-11-2 ┆ Portable  │\n",
       "│            ┆ small     ┆ great     ┆ H         ┆   ┆           ┆         ┆ 4         ┆ Audio &   │\n",
       "│            ┆ speaker.  ┆ little    ┆           ┆   ┆           ┆         ┆           ┆ Video     │\n",
       "│            ┆ good sou… ┆ speaker…  ┆           ┆   ┆           ┆         ┆           ┆           │\n",
       "│ 5.0        ┆ down in   ┆ riding    ┆ B003A21DQ ┆ … ┆ 12083     ┆ Kaito   ┆ 2004-09-0 ┆ Portable  │\n",
       "│            ┆ da boot,  ┆ out hurri ┆ A         ┆   ┆           ┆         ┆ 1         ┆ Audio &   │\n",
       "│            ┆ it is     ┆ canes is  ┆           ┆   ┆           ┆         ┆           ┆ Video     │\n",
       "│            ┆ what ya…  ┆ not s…    ┆           ┆   ┆           ┆         ┆           ┆           │\n",
       "│ 5.0        ┆ ... in my ┆ needed a  ┆ B00KSBB7E ┆ … ┆ 1245      ┆ SAMSUNG ┆ 2014-07-1 ┆ Televisio │\n",
       "│            ┆ sewing    ┆ tv in my  ┆ Y         ┆   ┆           ┆         ┆ 3         ┆ n & Video │\n",
       "│            ┆ room and  ┆ sewing    ┆           ┆   ┆           ┆         ┆           ┆           │\n",
       "│            ┆ this…     ┆ room …    ┆           ┆   ┆           ┆         ┆           ┆           │\n",
       "└────────────┴───────────┴───────────┴───────────┴───┴───────────┴─────────┴───────────┴───────────┘"
      ]
     },
     "execution_count": 8,
     "metadata": {},
     "output_type": "execute_result"
    }
   ],
   "source": [
    "joined_df = joined_df.with_columns([\n",
    "    pl.col(\"timestamp\").cast(pl.String).cast(pl.Datetime(\"ms\")).alias(\"timestamp\")\n",
    "])\n",
    "joined_df.head()"
   ]
  },
  {
   "cell_type": "code",
   "execution_count": 9,
   "id": "b715cf19",
   "metadata": {},
   "outputs": [
    {
     "data": {
      "text/plain": [
       "(18365091, 16)"
      ]
     },
     "execution_count": 9,
     "metadata": {},
     "output_type": "execute_result"
    }
   ],
   "source": [
    "joined_df.shape"
   ]
  },
  {
   "cell_type": "code",
   "execution_count": 11,
   "id": "14742736",
   "metadata": {},
   "outputs": [
    {
     "data": {
      "text/html": [
       "<div><style>\n",
       ".dataframe > thead > tr,\n",
       ".dataframe > tbody > tr {\n",
       "  text-align: right;\n",
       "  white-space: pre-wrap;\n",
       "}\n",
       "</style>\n",
       "<small>shape: (5, 16)</small><table border=\"1\" class=\"dataframe\"><thead><tr><th>review_rating</th><th>review_title</th><th>review_text</th><th>asin</th><th>parent_asin</th><th>user_id</th><th>timestamp</th><th>helpful_vote</th><th>verified_purchase</th><th>main_category</th><th>product_title</th><th>product_average_rating</th><th>product_rating_number</th><th>store</th><th>Date First Available</th><th>sub_category</th></tr><tr><td>f64</td><td>str</td><td>str</td><td>str</td><td>str</td><td>str</td><td>datetime[ms]</td><td>i64</td><td>bool</td><td>str</td><td>str</td><td>f64</td><td>i64</td><td>str</td><td>str</td><td>str</td></tr></thead><tbody><tr><td>5.0</td><td>&quot;please re-release this video!&quot;</td><td>&quot;i&#x27;ve seen this movie several t…</td><td>&quot;630365455X&quot;</td><td>&quot;630365455X&quot;</td><td>&quot;AE5KN3WCYFE6CPGILUOU6UD4MNEQ&quot;</td><td>1999-11-26 02:41:21</td><td>3</td><td>true</td><td>&quot;Movies &amp; TV&quot;</td><td>&quot;Home for the Holidays VHS&quot;</td><td>4.7</td><td>3401</td><td>&quot;Holly Hunter&nbsp;&nbsp;(Actor),&nbsp;&nbsp;&nbsp;&nbsp;&nbsp;Rob…</td><td>&quot;2006-10-01&quot;</td><td>&quot;Camera &amp; Photo&quot;</td></tr><tr><td>5.0</td><td>&quot;how could any1 not love this m…</td><td>&quot;hi i am only 12 but i love ros…</td><td>&quot;6300215695&quot;</td><td>&quot;6300215695&quot;</td><td>&quot;AFY7UORBYT47AIH5UR7VOY3Z2KKA&quot;</td><td>1999-12-19 15:54:36</td><td>1</td><td>true</td><td>&quot;Movies &amp; TV&quot;</td><td>&quot;White Christmas [VHS]&quot;</td><td>4.9</td><td>19053</td><td>&quot;Bing Crosby&nbsp;&nbsp;(Actor),&nbsp;&nbsp;&nbsp;&nbsp;&nbsp;Dann…</td><td>&quot;2006-12-07&quot;</td><td>&quot;Camera &amp; Photo&quot;</td></tr><tr><td>5.0</td><td>&quot;sony mdrv6 headphones - a clas…</td><td>&quot;i can&#x27;t recall how long i&#x27;ve o…</td><td>&quot;B00001WRSJ&quot;</td><td>&quot;B00WSLYQ7C&quot;</td><td>&quot;AGYC42WOF22EOMDKQZ5XWF3XNKFA&quot;</td><td>2000-03-15 06:13:32</td><td>391</td><td>true</td><td>&quot;Home Audio &amp; Theater&quot;</td><td>&quot;Sony MDRV6 Studio Monitor Head…</td><td>4.6</td><td>3738</td><td>&quot;Sony&quot;</td><td>&quot;2001-10-02&quot;</td><td>&quot;Headphones, Earbuds &amp; Accessor…</td></tr><tr><td>5.0</td><td>&quot;best in the market&quot;</td><td>&quot;besides having a built-in swit…</td><td>&quot;B00004SB92&quot;</td><td>&quot;B00004SB92&quot;</td><td>&quot;AEOAYZLLCKHXPHHG5IBJCPB2CZWA&quot;</td><td>2000-04-23 12:34:06</td><td>11</td><td>true</td><td>&quot;All Electronics&quot;</td><td>&quot;Cisco-Linksys BEFSR41 EtherFas…</td><td>4.0</td><td>1070</td><td>&quot;Linksys&quot;</td><td>&quot;2003-06-30&quot;</td><td>&quot;Computers &amp; Accessories&quot;</td></tr><tr><td>5.0</td><td>&quot;perfect for airplanes&quot;</td><td>&quot;different headphones have diff…</td><td>&quot;B00001P4XA&quot;</td><td>&quot;B00GN7GVCK&quot;</td><td>&quot;AEKWJM7QZOGYI3DIBH5KZB3IMMOA&quot;</td><td>2000-04-25 20:09:51</td><td>10</td><td>true</td><td>&quot;Home Audio &amp; Theater&quot;</td><td>&quot;Koss &#x27;The Plug&#x27; In-Ear Headpho…</td><td>4.2</td><td>2443</td><td>&quot;Koss&quot;</td><td>&quot;2002-07-08&quot;</td><td>&quot;Headphones, Earbuds &amp; Accessor…</td></tr></tbody></table></div>"
      ],
      "text/plain": [
       "shape: (5, 16)\n",
       "┌───────────┬───────────┬───────────┬───────────┬───┬───────────┬───────────┬───────────┬──────────┐\n",
       "│ review_ra ┆ review_ti ┆ review_te ┆ asin      ┆ … ┆ product_r ┆ store     ┆ Date      ┆ sub_cate │\n",
       "│ ting      ┆ tle       ┆ xt        ┆ ---       ┆   ┆ ating_num ┆ ---       ┆ First     ┆ gory     │\n",
       "│ ---       ┆ ---       ┆ ---       ┆ str       ┆   ┆ ber       ┆ str       ┆ Available ┆ ---      │\n",
       "│ f64       ┆ str       ┆ str       ┆           ┆   ┆ ---       ┆           ┆ ---       ┆ str      │\n",
       "│           ┆           ┆           ┆           ┆   ┆ i64       ┆           ┆ str       ┆          │\n",
       "╞═══════════╪═══════════╪═══════════╪═══════════╪═══╪═══════════╪═══════════╪═══════════╪══════════╡\n",
       "│ 5.0       ┆ please    ┆ i've seen ┆ 630365455 ┆ … ┆ 3401      ┆ Holly     ┆ 2006-10-0 ┆ Camera & │\n",
       "│           ┆ re-releas ┆ this      ┆ X         ┆   ┆           ┆ Hunter    ┆ 1         ┆ Photo    │\n",
       "│           ┆ e this    ┆ movie     ┆           ┆   ┆           ┆ (Actor),  ┆           ┆          │\n",
       "│           ┆ video!    ┆ several   ┆           ┆   ┆           ┆ Rob…      ┆           ┆          │\n",
       "│           ┆           ┆ t…        ┆           ┆   ┆           ┆           ┆           ┆          │\n",
       "│ 5.0       ┆ how could ┆ hi i am   ┆ 630021569 ┆ … ┆ 19053     ┆ Bing      ┆ 2006-12-0 ┆ Camera & │\n",
       "│           ┆ any1 not  ┆ only 12   ┆ 5         ┆   ┆           ┆ Crosby    ┆ 7         ┆ Photo    │\n",
       "│           ┆ love this ┆ but i     ┆           ┆   ┆           ┆ (Actor),  ┆           ┆          │\n",
       "│           ┆ m…        ┆ love ros… ┆           ┆   ┆           ┆ Dann…     ┆           ┆          │\n",
       "│ 5.0       ┆ sony      ┆ i can't   ┆ B00001WRS ┆ … ┆ 3738      ┆ Sony      ┆ 2001-10-0 ┆ Headphon │\n",
       "│           ┆ mdrv6 hea ┆ recall    ┆ J         ┆   ┆           ┆           ┆ 2         ┆ es,      │\n",
       "│           ┆ dphones - ┆ how long  ┆           ┆   ┆           ┆           ┆           ┆ Earbuds  │\n",
       "│           ┆ a clas…   ┆ i've o…   ┆           ┆   ┆           ┆           ┆           ┆ & Access │\n",
       "│           ┆           ┆           ┆           ┆   ┆           ┆           ┆           ┆ or…      │\n",
       "│ 5.0       ┆ best in   ┆ besides   ┆ B00004SB9 ┆ … ┆ 1070      ┆ Linksys   ┆ 2003-06-3 ┆ Computer │\n",
       "│           ┆ the       ┆ having a  ┆ 2         ┆   ┆           ┆           ┆ 0         ┆ s & Acce │\n",
       "│           ┆ market    ┆ built-in  ┆           ┆   ┆           ┆           ┆           ┆ ssories  │\n",
       "│           ┆           ┆ swit…     ┆           ┆   ┆           ┆           ┆           ┆          │\n",
       "│ 5.0       ┆ perfect   ┆ different ┆ B00001P4X ┆ … ┆ 2443      ┆ Koss      ┆ 2002-07-0 ┆ Headphon │\n",
       "│           ┆ for       ┆ headphone ┆ A         ┆   ┆           ┆           ┆ 8         ┆ es,      │\n",
       "│           ┆ airplanes ┆ s have    ┆           ┆   ┆           ┆           ┆           ┆ Earbuds  │\n",
       "│           ┆           ┆ diff…     ┆           ┆   ┆           ┆           ┆           ┆ & Access │\n",
       "│           ┆           ┆           ┆           ┆   ┆           ┆           ┆           ┆ or…      │\n",
       "└───────────┴───────────┴───────────┴───────────┴───┴───────────┴───────────┴───────────┴──────────┘"
      ]
     },
     "execution_count": 11,
     "metadata": {},
     "output_type": "execute_result"
    }
   ],
   "source": [
    "joined_df = joined_df.sort(\"timestamp\")\n",
    "joined_df.head()"
   ]
  },
  {
   "cell_type": "code",
   "execution_count": 12,
   "id": "902b8086",
   "metadata": {},
   "outputs": [
    {
     "name": "stdout",
     "output_type": "stream",
     "text": [
      "Number of reviews with helpful votes >= 0: 18365089\n"
     ]
    }
   ],
   "source": [
    "helpful_count = joined_df.filter(pl.col(\"helpful_vote\") >= 0).height\n",
    "print(f\"Number of reviews with helpful votes >= 0: {helpful_count}\")"
   ]
  },
  {
   "cell_type": "code",
   "execution_count": 13,
   "id": "1401c80c",
   "metadata": {},
   "outputs": [
    {
     "data": {
      "text/html": [
       "<div><style>\n",
       ".dataframe > thead > tr,\n",
       ".dataframe > tbody > tr {\n",
       "  text-align: right;\n",
       "  white-space: pre-wrap;\n",
       "}\n",
       "</style>\n",
       "<small>shape: (5, 16)</small><table border=\"1\" class=\"dataframe\"><thead><tr><th>review_rating</th><th>review_title</th><th>review_text</th><th>asin</th><th>parent_asin</th><th>user_id</th><th>timestamp</th><th>helpful_vote</th><th>verified_purchase</th><th>main_category</th><th>product_title</th><th>product_average_rating</th><th>product_rating_number</th><th>store</th><th>Date First Available</th><th>sub_category</th></tr><tr><td>f64</td><td>str</td><td>str</td><td>str</td><td>str</td><td>str</td><td>datetime[ms]</td><td>i64</td><td>bool</td><td>str</td><td>str</td><td>f64</td><td>i64</td><td>str</td><td>str</td><td>str</td></tr></thead><tbody><tr><td>5.0</td><td>&quot;please re-release this video!&quot;</td><td>&quot;i&#x27;ve seen this movie several t…</td><td>&quot;630365455X&quot;</td><td>&quot;630365455X&quot;</td><td>&quot;AE5KN3WCYFE6CPGILUOU6UD4MNEQ&quot;</td><td>1999-11-26 02:41:21</td><td>3</td><td>true</td><td>&quot;Movies &amp; TV&quot;</td><td>&quot;Home for the Holidays VHS&quot;</td><td>4.7</td><td>3401</td><td>&quot;Holly Hunter&nbsp;&nbsp;(Actor),&nbsp;&nbsp;&nbsp;&nbsp;&nbsp;Rob…</td><td>&quot;2006-10-01&quot;</td><td>&quot;Camera &amp; Photo&quot;</td></tr><tr><td>5.0</td><td>&quot;how could any1 not love this m…</td><td>&quot;hi i am only 12 but i love ros…</td><td>&quot;6300215695&quot;</td><td>&quot;6300215695&quot;</td><td>&quot;AFY7UORBYT47AIH5UR7VOY3Z2KKA&quot;</td><td>1999-12-19 15:54:36</td><td>1</td><td>true</td><td>&quot;Movies &amp; TV&quot;</td><td>&quot;White Christmas [VHS]&quot;</td><td>4.9</td><td>19053</td><td>&quot;Bing Crosby&nbsp;&nbsp;(Actor),&nbsp;&nbsp;&nbsp;&nbsp;&nbsp;Dann…</td><td>&quot;2006-12-07&quot;</td><td>&quot;Camera &amp; Photo&quot;</td></tr><tr><td>5.0</td><td>&quot;sony mdrv6 headphones - a clas…</td><td>&quot;i can&#x27;t recall how long i&#x27;ve o…</td><td>&quot;B00001WRSJ&quot;</td><td>&quot;B00WSLYQ7C&quot;</td><td>&quot;AGYC42WOF22EOMDKQZ5XWF3XNKFA&quot;</td><td>2000-03-15 06:13:32</td><td>391</td><td>true</td><td>&quot;Home Audio &amp; Theater&quot;</td><td>&quot;Sony MDRV6 Studio Monitor Head…</td><td>4.6</td><td>3738</td><td>&quot;Sony&quot;</td><td>&quot;2001-10-02&quot;</td><td>&quot;Headphones, Earbuds &amp; Accessor…</td></tr><tr><td>5.0</td><td>&quot;best in the market&quot;</td><td>&quot;besides having a built-in swit…</td><td>&quot;B00004SB92&quot;</td><td>&quot;B00004SB92&quot;</td><td>&quot;AEOAYZLLCKHXPHHG5IBJCPB2CZWA&quot;</td><td>2000-04-23 12:34:06</td><td>11</td><td>true</td><td>&quot;All Electronics&quot;</td><td>&quot;Cisco-Linksys BEFSR41 EtherFas…</td><td>4.0</td><td>1070</td><td>&quot;Linksys&quot;</td><td>&quot;2003-06-30&quot;</td><td>&quot;Computers &amp; Accessories&quot;</td></tr><tr><td>5.0</td><td>&quot;perfect for airplanes&quot;</td><td>&quot;different headphones have diff…</td><td>&quot;B00001P4XA&quot;</td><td>&quot;B00GN7GVCK&quot;</td><td>&quot;AEKWJM7QZOGYI3DIBH5KZB3IMMOA&quot;</td><td>2000-04-25 20:09:51</td><td>10</td><td>true</td><td>&quot;Home Audio &amp; Theater&quot;</td><td>&quot;Koss &#x27;The Plug&#x27; In-Ear Headpho…</td><td>4.2</td><td>2443</td><td>&quot;Koss&quot;</td><td>&quot;2002-07-08&quot;</td><td>&quot;Headphones, Earbuds &amp; Accessor…</td></tr></tbody></table></div>"
      ],
      "text/plain": [
       "shape: (5, 16)\n",
       "┌───────────┬───────────┬───────────┬───────────┬───┬───────────┬───────────┬───────────┬──────────┐\n",
       "│ review_ra ┆ review_ti ┆ review_te ┆ asin      ┆ … ┆ product_r ┆ store     ┆ Date      ┆ sub_cate │\n",
       "│ ting      ┆ tle       ┆ xt        ┆ ---       ┆   ┆ ating_num ┆ ---       ┆ First     ┆ gory     │\n",
       "│ ---       ┆ ---       ┆ ---       ┆ str       ┆   ┆ ber       ┆ str       ┆ Available ┆ ---      │\n",
       "│ f64       ┆ str       ┆ str       ┆           ┆   ┆ ---       ┆           ┆ ---       ┆ str      │\n",
       "│           ┆           ┆           ┆           ┆   ┆ i64       ┆           ┆ str       ┆          │\n",
       "╞═══════════╪═══════════╪═══════════╪═══════════╪═══╪═══════════╪═══════════╪═══════════╪══════════╡\n",
       "│ 5.0       ┆ please    ┆ i've seen ┆ 630365455 ┆ … ┆ 3401      ┆ Holly     ┆ 2006-10-0 ┆ Camera & │\n",
       "│           ┆ re-releas ┆ this      ┆ X         ┆   ┆           ┆ Hunter    ┆ 1         ┆ Photo    │\n",
       "│           ┆ e this    ┆ movie     ┆           ┆   ┆           ┆ (Actor),  ┆           ┆          │\n",
       "│           ┆ video!    ┆ several   ┆           ┆   ┆           ┆ Rob…      ┆           ┆          │\n",
       "│           ┆           ┆ t…        ┆           ┆   ┆           ┆           ┆           ┆          │\n",
       "│ 5.0       ┆ how could ┆ hi i am   ┆ 630021569 ┆ … ┆ 19053     ┆ Bing      ┆ 2006-12-0 ┆ Camera & │\n",
       "│           ┆ any1 not  ┆ only 12   ┆ 5         ┆   ┆           ┆ Crosby    ┆ 7         ┆ Photo    │\n",
       "│           ┆ love this ┆ but i     ┆           ┆   ┆           ┆ (Actor),  ┆           ┆          │\n",
       "│           ┆ m…        ┆ love ros… ┆           ┆   ┆           ┆ Dann…     ┆           ┆          │\n",
       "│ 5.0       ┆ sony      ┆ i can't   ┆ B00001WRS ┆ … ┆ 3738      ┆ Sony      ┆ 2001-10-0 ┆ Headphon │\n",
       "│           ┆ mdrv6 hea ┆ recall    ┆ J         ┆   ┆           ┆           ┆ 2         ┆ es,      │\n",
       "│           ┆ dphones - ┆ how long  ┆           ┆   ┆           ┆           ┆           ┆ Earbuds  │\n",
       "│           ┆ a clas…   ┆ i've o…   ┆           ┆   ┆           ┆           ┆           ┆ & Access │\n",
       "│           ┆           ┆           ┆           ┆   ┆           ┆           ┆           ┆ or…      │\n",
       "│ 5.0       ┆ best in   ┆ besides   ┆ B00004SB9 ┆ … ┆ 1070      ┆ Linksys   ┆ 2003-06-3 ┆ Computer │\n",
       "│           ┆ the       ┆ having a  ┆ 2         ┆   ┆           ┆           ┆ 0         ┆ s & Acce │\n",
       "│           ┆ market    ┆ built-in  ┆           ┆   ┆           ┆           ┆           ┆ ssories  │\n",
       "│           ┆           ┆ swit…     ┆           ┆   ┆           ┆           ┆           ┆          │\n",
       "│ 5.0       ┆ perfect   ┆ different ┆ B00001P4X ┆ … ┆ 2443      ┆ Koss      ┆ 2002-07-0 ┆ Headphon │\n",
       "│           ┆ for       ┆ headphone ┆ A         ┆   ┆           ┆           ┆ 8         ┆ es,      │\n",
       "│           ┆ airplanes ┆ s have    ┆           ┆   ┆           ┆           ┆           ┆ Earbuds  │\n",
       "│           ┆           ┆ diff…     ┆           ┆   ┆           ┆           ┆           ┆ & Access │\n",
       "│           ┆           ┆           ┆           ┆   ┆           ┆           ┆           ┆ or…      │\n",
       "└───────────┴───────────┴───────────┴───────────┴───┴───────────┴───────────┴───────────┴──────────┘"
      ]
     },
     "execution_count": 13,
     "metadata": {},
     "output_type": "execute_result"
    }
   ],
   "source": [
    "joined_df = joined_df.filter(pl.col(\"helpful_vote\") >= 0)\n",
    "joined_df.head()"
   ]
  },
  {
   "cell_type": "code",
   "execution_count": 15,
   "id": "6bace298",
   "metadata": {},
   "outputs": [],
   "source": [
    "joined_df = joined_df.drop(['verified_purchase'])"
   ]
  },
  {
   "cell_type": "code",
   "execution_count": 16,
   "id": "91de7767",
   "metadata": {},
   "outputs": [
    {
     "data": {
      "text/plain": [
       "(18365089, 15)"
      ]
     },
     "execution_count": 16,
     "metadata": {},
     "output_type": "execute_result"
    }
   ],
   "source": [
    "joined_df.shape"
   ]
  },
  {
   "cell_type": "code",
   "execution_count": 18,
   "id": "5f52707b",
   "metadata": {},
   "outputs": [],
   "source": [
    "joined_df.write_csv(r\"joined_output.csv\")"
   ]
  },
  {
   "cell_type": "code",
   "execution_count": null,
   "id": "8a9f3f6a",
   "metadata": {},
   "outputs": [],
   "source": [
    "joinedf = pl.read_csv(\"joined_output.csv\")"
   ]
  },
  {
   "cell_type": "code",
   "execution_count": 2,
   "id": "97471b45",
   "metadata": {},
   "outputs": [],
   "source": [
    "joined_df = joinedf.drop(['asin','user_id'])"
   ]
  },
  {
   "cell_type": "code",
   "execution_count": 13,
   "id": "503c703c",
   "metadata": {},
   "outputs": [
    {
     "data": {
      "text/html": [
       "<div><style>\n",
       ".dataframe > thead > tr,\n",
       ".dataframe > tbody > tr {\n",
       "  text-align: right;\n",
       "  white-space: pre-wrap;\n",
       "}\n",
       "</style>\n",
       "<small>shape: (5, 13)</small><table border=\"1\" class=\"dataframe\"><thead><tr><th>review_rating</th><th>review_title</th><th>review_text</th><th>parent_asin</th><th>timestamp</th><th>helpful_vote</th><th>main_category</th><th>product_title</th><th>product_average_rating</th><th>product_rating_number</th><th>store</th><th>Date First Available</th><th>sub_category</th></tr><tr><td>f64</td><td>str</td><td>str</td><td>str</td><td>str</td><td>i64</td><td>str</td><td>str</td><td>f64</td><td>i64</td><td>str</td><td>str</td><td>str</td></tr></thead><tbody><tr><td>5.0</td><td>&quot;please re-release this video!&quot;</td><td>&quot;i&#x27;ve seen this movie several t…</td><td>&quot;630365455X&quot;</td><td>&quot;1999-11-26T02:41:21.000&quot;</td><td>3</td><td>&quot;Movies &amp; TV&quot;</td><td>&quot;Home for the Holidays VHS&quot;</td><td>4.7</td><td>3401</td><td>&quot;Holly Hunter&nbsp;&nbsp;(Actor),&nbsp;&nbsp;&nbsp;&nbsp;&nbsp;Rob…</td><td>&quot;2006-10-01&quot;</td><td>&quot;Camera &amp; Photo&quot;</td></tr><tr><td>5.0</td><td>&quot;how could any1 not love this m…</td><td>&quot;hi i am only 12 but i love ros…</td><td>&quot;6300215695&quot;</td><td>&quot;1999-12-19T15:54:36.000&quot;</td><td>1</td><td>&quot;Movies &amp; TV&quot;</td><td>&quot;White Christmas [VHS]&quot;</td><td>4.9</td><td>19053</td><td>&quot;Bing Crosby&nbsp;&nbsp;(Actor),&nbsp;&nbsp;&nbsp;&nbsp;&nbsp;Dann…</td><td>&quot;2006-12-07&quot;</td><td>&quot;Camera &amp; Photo&quot;</td></tr><tr><td>5.0</td><td>&quot;sony mdrv6 headphones - a clas…</td><td>&quot;i can&#x27;t recall how long i&#x27;ve o…</td><td>&quot;B00WSLYQ7C&quot;</td><td>&quot;2000-03-15T06:13:32.000&quot;</td><td>391</td><td>&quot;Home Audio &amp; Theater&quot;</td><td>&quot;Sony MDRV6 Studio Monitor Head…</td><td>4.6</td><td>3738</td><td>&quot;Sony&quot;</td><td>&quot;2001-10-02&quot;</td><td>&quot;Headphones, Earbuds &amp; Accessor…</td></tr><tr><td>5.0</td><td>&quot;best in the market&quot;</td><td>&quot;besides having a built-in swit…</td><td>&quot;B00004SB92&quot;</td><td>&quot;2000-04-23T12:34:06.000&quot;</td><td>11</td><td>&quot;All Electronics&quot;</td><td>&quot;Cisco-Linksys BEFSR41 EtherFas…</td><td>4.0</td><td>1070</td><td>&quot;Linksys&quot;</td><td>&quot;2003-06-30&quot;</td><td>&quot;Computers &amp; Accessories&quot;</td></tr><tr><td>5.0</td><td>&quot;perfect for airplanes&quot;</td><td>&quot;different headphones have diff…</td><td>&quot;B00GN7GVCK&quot;</td><td>&quot;2000-04-25T20:09:51.000&quot;</td><td>10</td><td>&quot;Home Audio &amp; Theater&quot;</td><td>&quot;Koss &#x27;The Plug&#x27; In-Ear Headpho…</td><td>4.2</td><td>2443</td><td>&quot;Koss&quot;</td><td>&quot;2002-07-08&quot;</td><td>&quot;Headphones, Earbuds &amp; Accessor…</td></tr></tbody></table></div>"
      ],
      "text/plain": [
       "shape: (5, 13)\n",
       "┌───────────┬───────────┬───────────┬───────────┬───┬───────────┬───────────┬───────────┬──────────┐\n",
       "│ review_ra ┆ review_ti ┆ review_te ┆ parent_as ┆ … ┆ product_r ┆ store     ┆ Date      ┆ sub_cate │\n",
       "│ ting      ┆ tle       ┆ xt        ┆ in        ┆   ┆ ating_num ┆ ---       ┆ First     ┆ gory     │\n",
       "│ ---       ┆ ---       ┆ ---       ┆ ---       ┆   ┆ ber       ┆ str       ┆ Available ┆ ---      │\n",
       "│ f64       ┆ str       ┆ str       ┆ str       ┆   ┆ ---       ┆           ┆ ---       ┆ str      │\n",
       "│           ┆           ┆           ┆           ┆   ┆ i64       ┆           ┆ str       ┆          │\n",
       "╞═══════════╪═══════════╪═══════════╪═══════════╪═══╪═══════════╪═══════════╪═══════════╪══════════╡\n",
       "│ 5.0       ┆ please    ┆ i've seen ┆ 630365455 ┆ … ┆ 3401      ┆ Holly     ┆ 2006-10-0 ┆ Camera & │\n",
       "│           ┆ re-releas ┆ this      ┆ X         ┆   ┆           ┆ Hunter    ┆ 1         ┆ Photo    │\n",
       "│           ┆ e this    ┆ movie     ┆           ┆   ┆           ┆ (Actor),  ┆           ┆          │\n",
       "│           ┆ video!    ┆ several   ┆           ┆   ┆           ┆ Rob…      ┆           ┆          │\n",
       "│           ┆           ┆ t…        ┆           ┆   ┆           ┆           ┆           ┆          │\n",
       "│ 5.0       ┆ how could ┆ hi i am   ┆ 630021569 ┆ … ┆ 19053     ┆ Bing      ┆ 2006-12-0 ┆ Camera & │\n",
       "│           ┆ any1 not  ┆ only 12   ┆ 5         ┆   ┆           ┆ Crosby    ┆ 7         ┆ Photo    │\n",
       "│           ┆ love this ┆ but i     ┆           ┆   ┆           ┆ (Actor),  ┆           ┆          │\n",
       "│           ┆ m…        ┆ love ros… ┆           ┆   ┆           ┆ Dann…     ┆           ┆          │\n",
       "│ 5.0       ┆ sony      ┆ i can't   ┆ B00WSLYQ7 ┆ … ┆ 3738      ┆ Sony      ┆ 2001-10-0 ┆ Headphon │\n",
       "│           ┆ mdrv6 hea ┆ recall    ┆ C         ┆   ┆           ┆           ┆ 2         ┆ es,      │\n",
       "│           ┆ dphones - ┆ how long  ┆           ┆   ┆           ┆           ┆           ┆ Earbuds  │\n",
       "│           ┆ a clas…   ┆ i've o…   ┆           ┆   ┆           ┆           ┆           ┆ & Access │\n",
       "│           ┆           ┆           ┆           ┆   ┆           ┆           ┆           ┆ or…      │\n",
       "│ 5.0       ┆ best in   ┆ besides   ┆ B00004SB9 ┆ … ┆ 1070      ┆ Linksys   ┆ 2003-06-3 ┆ Computer │\n",
       "│           ┆ the       ┆ having a  ┆ 2         ┆   ┆           ┆           ┆ 0         ┆ s & Acce │\n",
       "│           ┆ market    ┆ built-in  ┆           ┆   ┆           ┆           ┆           ┆ ssories  │\n",
       "│           ┆           ┆ swit…     ┆           ┆   ┆           ┆           ┆           ┆          │\n",
       "│ 5.0       ┆ perfect   ┆ different ┆ B00GN7GVC ┆ … ┆ 2443      ┆ Koss      ┆ 2002-07-0 ┆ Headphon │\n",
       "│           ┆ for       ┆ headphone ┆ K         ┆   ┆           ┆           ┆ 8         ┆ es,      │\n",
       "│           ┆ airplanes ┆ s have    ┆           ┆   ┆           ┆           ┆           ┆ Earbuds  │\n",
       "│           ┆           ┆ diff…     ┆           ┆   ┆           ┆           ┆           ┆ & Access │\n",
       "│           ┆           ┆           ┆           ┆   ┆           ┆           ┆           ┆ or…      │\n",
       "└───────────┴───────────┴───────────┴───────────┴───┴───────────┴───────────┴───────────┴──────────┘"
      ]
     },
     "execution_count": 13,
     "metadata": {},
     "output_type": "execute_result"
    }
   ],
   "source": [
    "joined_df.head()"
   ]
  },
  {
   "cell_type": "code",
   "execution_count": null,
   "id": "b7e7ec86",
   "metadata": {},
   "outputs": [
    {
     "name": "stderr",
     "output_type": "stream",
     "text": [
      "C:\\Users\\saarthak\\AppData\\Local\\Temp\\ipykernel_9600\\319050612.py:3: ChronoFormatWarning: Detected the pattern `.%f` in the chrono format string. This pattern should not be used to parse values after a decimal point. Use `%.f` instead. See the full specification: https://docs.rs/chrono/latest/chrono/format/strftime\n",
      "  .str.strptime(\n"
     ]
    },
    {
     "name": "stdout",
     "output_type": "stream",
     "text": [
      "Kept 17472787 of 18365089 rows\n"
     ]
    }
   ],
   "source": [
    "df = joined_df.with_columns([\n",
    "    pl.col(\"timestamp\")\n",
    "      .str.strptime(\n",
    "          pl.Datetime,\n",
    "          \"%Y-%m-%dT%H:%M:%S.%f\"\n",
    "      )\n",
    "      .alias(\"timestamp\")\n",
    "])\n",
    "\n",
    "cutoff = datetime(2014, 1, 1)\n",
    "df_filtered = df.filter(pl.col(\"timestamp\") >= cutoff)\n",
    "\n",
    "print(f\"Kept {df_filtered.height} of {df.height} rows\")"
   ]
  },
  {
   "cell_type": "code",
   "execution_count": 21,
   "id": "409e5c11",
   "metadata": {},
   "outputs": [
    {
     "data": {
      "text/plain": [
       "(17472787, 13)"
      ]
     },
     "execution_count": 21,
     "metadata": {},
     "output_type": "execute_result"
    }
   ],
   "source": [
    "df_filtered.shape"
   ]
  },
  {
   "cell_type": "code",
   "execution_count": 22,
   "id": "5ad9c9c8",
   "metadata": {},
   "outputs": [],
   "source": [
    "df_filtered.write_csv(r\"joined_output.csv\")"
   ]
  },
  {
   "cell_type": "markdown",
   "id": "d54d8dfe",
   "metadata": {},
   "source": [
    "Binning on year and month"
   ]
  },
  {
   "cell_type": "code",
   "execution_count": 1,
   "id": "5f7f2f33",
   "metadata": {},
   "outputs": [
    {
     "name": "stdout",
     "output_type": "stream",
     "text": [
      "✅  time‑binned CSV → joined_binned.csv\n"
     ]
    }
   ],
   "source": [
    "IN_CSV  = \"joined_output.csv\"\n",
    "OUT_CSV = \"joined_binned.csv\"\n",
    "BIN     = \"month\"\n",
    "\n",
    "def add_bins(lf: pl.LazyFrame, granularity: str) -> pl.LazyFrame:\n",
    "    lf = lf.with_columns(\n",
    "            pl.col(\"timestamp\").str.to_datetime().alias(\"timestamp\")\n",
    "        ).drop_nulls(\"timestamp\")\n",
    "\n",
    "    if granularity == \"month\":\n",
    "        return lf.with_columns([\n",
    "            pl.col(\"timestamp\").dt.truncate(\"1mo\").alias(\"time_bin\"),\n",
    "            pl.col(\"timestamp\").dt.year().alias(\"year\"),\n",
    "            pl.col(\"timestamp\").dt.month().alias(\"month\"),\n",
    "        ])\n",
    "    elif granularity == \"week\":\n",
    "        return lf.with_columns([\n",
    "            pl.col(\"timestamp\").dt.truncate(\"1w\").alias(\"time_bin\"),\n",
    "            pl.col(\"timestamp\").dt.year().alias(\"year\"),\n",
    "            pl.col(\"timestamp\").dt.week().alias(\"week\"),\n",
    "        ])\n",
    "    elif granularity == \"quarter\":\n",
    "        return lf.with_columns([\n",
    "            pl.col(\"timestamp\").dt.truncate(\"3mo\").alias(\"time_bin\"),\n",
    "            pl.col(\"timestamp\").dt.year().alias(\"year\"),\n",
    "            ((pl.col(\"timestamp\").dt.month()-1)//3 + 1).alias(\"quarter\"),\n",
    "        ])\n",
    "    else:\n",
    "        raise ValueError(\"BIN must be 'week', 'month', or 'quarter'\")\n",
    "\n",
    "(\n",
    "    pl.scan_csv(IN_CSV, infer_schema_length=100, low_memory=True)\n",
    "      .pipe(add_bins, BIN)\n",
    "      .sink_csv(OUT_CSV, batch_size=100_000)\n",
    ")\n",
    "\n",
    "print(\"time‑binned CSV →\", OUT_CSV)\n"
   ]
  },
  {
   "cell_type": "code",
   "execution_count": null,
   "id": "4907fde2",
   "metadata": {},
   "outputs": [
    {
     "data": {
      "text/html": [
       "<div><style>\n",
       ".dataframe > thead > tr,\n",
       ".dataframe > tbody > tr {\n",
       "  text-align: right;\n",
       "  white-space: pre-wrap;\n",
       "}\n",
       "</style>\n",
       "<small>shape: (5, 16)</small><table border=\"1\" class=\"dataframe\"><thead><tr><th>review_rating</th><th>review_title</th><th>review_text</th><th>parent_asin</th><th>timestamp</th><th>helpful_vote</th><th>main_category</th><th>product_title</th><th>product_average_rating</th><th>product_rating_number</th><th>store</th><th>Date First Available</th><th>sub_category</th><th>time_bin</th><th>year</th><th>month</th></tr><tr><td>f64</td><td>str</td><td>str</td><td>str</td><td>str</td><td>i64</td><td>str</td><td>str</td><td>f64</td><td>i64</td><td>str</td><td>str</td><td>str</td><td>str</td><td>i64</td><td>i64</td></tr></thead><tbody><tr><td>5.0</td><td>&quot;love it!&quot;</td><td>&quot;i have wanted a digital frame …</td><td>&quot;B00DYQQSSK&quot;</td><td>&quot;2014-01-01T00:00:28.000000&quot;</td><td>0</td><td>&quot;Camera &amp; Photo&quot;</td><td>&quot;NIX 12 inch Hi-Res Digital Pho…</td><td>4.3</td><td>1949</td><td>&quot;NIX&quot;</td><td>&quot;2013-07-16&quot;</td><td>&quot;Camera &amp; Photo&quot;</td><td>&quot;2014-01-01T00:00:00.000000&quot;</td><td>2014</td><td>1</td></tr><tr><td>5.0</td><td>&quot;kindle fast charge&quot;</td><td>&quot;this little 9w fast charge rea…</td><td>&quot;B006GWO5WK&quot;</td><td>&quot;2014-01-01T00:00:38.000000&quot;</td><td>0</td><td>&quot;Amazon Devices&quot;</td><td>&quot;Amazon Kindle 9W PowerFast Ada…</td><td>4.5</td><td>16780</td><td>&quot;Amazon&quot;</td><td>&quot;2012-08-07&quot;</td><td>&quot;Computers &amp; Accessories&quot;</td><td>&quot;2014-01-01T00:00:00.000000&quot;</td><td>2014</td><td>1</td></tr><tr><td>5.0</td><td>&quot;still reliable&quot;</td><td>&quot;just plug it in and don&#x27;t look…</td><td>&quot;B0019EHU8G&quot;</td><td>&quot;2014-01-01T00:00:42.000000&quot;</td><td>0</td><td>&quot;Home Audio &amp; Theater&quot;</td><td>&quot;Mediabridge™ HDMI Cable (6 Fee…</td><td>4.6</td><td>20201</td><td>&quot;Mediabridge&quot;</td><td>&quot;2008-05-23&quot;</td><td>&quot;Television &amp; Video&quot;</td><td>&quot;2014-01-01T00:00:00.000000&quot;</td><td>2014</td><td>1</td></tr><tr><td>5.0</td><td>&quot;really great!&quot;</td><td>&quot;bought for my wife as she love…</td><td>&quot;B00CKYVYI6&quot;</td><td>&quot;2014-01-01T00:02:09.000000&quot;</td><td>1</td><td>&quot;All Electronics&quot;</td><td>&quot;G-Project G-Boom Wireless Blue…</td><td>4.4</td><td>1679</td><td>&quot;G-Project&quot;</td><td>&quot;2013-04-29&quot;</td><td>&quot;Portable Audio &amp; Video&quot;</td><td>&quot;2014-01-01T00:00:00.000000&quot;</td><td>2014</td><td>1</td></tr><tr><td>5.0</td><td>&quot;works just like it should&quot;</td><td>&quot;fits a 96 ram 1500 perfect and…</td><td>&quot;B07C9X5RCT&quot;</td><td>&quot;2014-01-01T00:03:03.000000&quot;</td><td>0</td><td>&quot;Car Electronics&quot;</td><td>&quot;BOSS Audio Systems BRS69 120 W…</td><td>4.2</td><td>4145</td><td>&quot;BOSS Audio Systems&quot;</td><td>&quot;2008-10-23&quot;</td><td>&quot;Car &amp; Vehicle Electronics&quot;</td><td>&quot;2014-01-01T00:00:00.000000&quot;</td><td>2014</td><td>1</td></tr></tbody></table></div>"
      ],
      "text/plain": [
       "shape: (5, 16)\n",
       "┌─────────────┬─────────────┬────────────┬────────────┬───┬────────────┬────────────┬──────┬───────┐\n",
       "│ review_rati ┆ review_titl ┆ review_tex ┆ parent_asi ┆ … ┆ sub_catego ┆ time_bin   ┆ year ┆ month │\n",
       "│ ng          ┆ e           ┆ t          ┆ n          ┆   ┆ ry         ┆ ---        ┆ ---  ┆ ---   │\n",
       "│ ---         ┆ ---         ┆ ---        ┆ ---        ┆   ┆ ---        ┆ str        ┆ i64  ┆ i64   │\n",
       "│ f64         ┆ str         ┆ str        ┆ str        ┆   ┆ str        ┆            ┆      ┆       │\n",
       "╞═════════════╪═════════════╪════════════╪════════════╪═══╪════════════╪════════════╪══════╪═══════╡\n",
       "│ 5.0         ┆ love it!    ┆ i have     ┆ B00DYQQSSK ┆ … ┆ Camera &   ┆ 2014-01-01 ┆ 2014 ┆ 1     │\n",
       "│             ┆             ┆ wanted a   ┆            ┆   ┆ Photo      ┆ T00:00:00. ┆      ┆       │\n",
       "│             ┆             ┆ digital    ┆            ┆   ┆            ┆ 000000     ┆      ┆       │\n",
       "│             ┆             ┆ frame …    ┆            ┆   ┆            ┆            ┆      ┆       │\n",
       "│ 5.0         ┆ kindle fast ┆ this       ┆ B006GWO5WK ┆ … ┆ Computers  ┆ 2014-01-01 ┆ 2014 ┆ 1     │\n",
       "│             ┆ charge      ┆ little 9w  ┆            ┆   ┆ & Accessor ┆ T00:00:00. ┆      ┆       │\n",
       "│             ┆             ┆ fast       ┆            ┆   ┆ ies        ┆ 000000     ┆      ┆       │\n",
       "│             ┆             ┆ charge     ┆            ┆   ┆            ┆            ┆      ┆       │\n",
       "│             ┆             ┆ rea…       ┆            ┆   ┆            ┆            ┆      ┆       │\n",
       "│ 5.0         ┆ still       ┆ just plug  ┆ B0019EHU8G ┆ … ┆ Television ┆ 2014-01-01 ┆ 2014 ┆ 1     │\n",
       "│             ┆ reliable    ┆ it in and  ┆            ┆   ┆ & Video    ┆ T00:00:00. ┆      ┆       │\n",
       "│             ┆             ┆ don't      ┆            ┆   ┆            ┆ 000000     ┆      ┆       │\n",
       "│             ┆             ┆ look…      ┆            ┆   ┆            ┆            ┆      ┆       │\n",
       "│ 5.0         ┆ really      ┆ bought for ┆ B00CKYVYI6 ┆ … ┆ Portable   ┆ 2014-01-01 ┆ 2014 ┆ 1     │\n",
       "│             ┆ great!      ┆ my wife as ┆            ┆   ┆ Audio &    ┆ T00:00:00. ┆      ┆       │\n",
       "│             ┆             ┆ she love…  ┆            ┆   ┆ Video      ┆ 000000     ┆      ┆       │\n",
       "│ 5.0         ┆ works just  ┆ fits a 96  ┆ B07C9X5RCT ┆ … ┆ Car &      ┆ 2014-01-01 ┆ 2014 ┆ 1     │\n",
       "│             ┆ like it     ┆ ram 1500   ┆            ┆   ┆ Vehicle    ┆ T00:00:00. ┆      ┆       │\n",
       "│             ┆ should      ┆ perfect    ┆            ┆   ┆ Electronic ┆ 000000     ┆      ┆       │\n",
       "│             ┆             ┆ and…       ┆            ┆   ┆ s          ┆            ┆      ┆       │\n",
       "└─────────────┴─────────────┴────────────┴────────────┴───┴────────────┴────────────┴──────┴───────┘"
      ]
     },
     "execution_count": 4,
     "metadata": {},
     "output_type": "execute_result"
    }
   ],
   "source": [
    "joined_df = pl.read_csv('joined_binned.csv')\n",
    "joined_df.head() "
   ]
  },
  {
   "cell_type": "markdown",
   "id": "94899676",
   "metadata": {},
   "source": [
    "Sentment scoring through RoBERTa"
   ]
  },
  {
   "cell_type": "code",
   "execution_count": null,
   "id": "c0766669",
   "metadata": {},
   "outputs": [
    {
     "name": "stderr",
     "output_type": "stream",
     "text": [
      "Some weights of the model checkpoint at cardiffnlp/twitter-roberta-base-sentiment-latest were not used when initializing RobertaForSequenceClassification: ['roberta.pooler.dense.bias', 'roberta.pooler.dense.weight']\n",
      "- This IS expected if you are initializing RobertaForSequenceClassification from the checkpoint of a model trained on another task or with another architecture (e.g. initializing a BertForSequenceClassification model from a BertForPreTraining model).\n",
      "- This IS NOT expected if you are initializing RobertaForSequenceClassification from the checkpoint of a model that you expect to be exactly identical (initializing a BertForSequenceClassification model from a BertForSequenceClassification model).\n"
     ]
    },
    {
     "name": "stdout",
     "output_type": "stream",
     "text": [
      "✓ chunk 1  rows=200000\n",
      "✓ chunk 2  rows=200000\n",
      "✓ chunk 3  rows=200000\n",
      "✓ chunk 4  rows=200000\n",
      "✓ chunk 5  rows=200000\n",
      "✓ chunk 6  rows=200000\n",
      "✓ chunk 7  rows=200000\n",
      "✓ chunk 8  rows=200000\n",
      "✓ chunk 9  rows=200000\n",
      "✓ chunk 10  rows=200000\n",
      "✓ chunk 11  rows=200000\n",
      "✓ chunk 12  rows=200000\n",
      "✓ chunk 13  rows=200000\n",
      "✓ chunk 14  rows=200000\n",
      "✓ chunk 15  rows=200000\n",
      "✓ chunk 16  rows=200000\n",
      "✓ chunk 17  rows=200000\n",
      "✓ chunk 18  rows=200000\n",
      "✓ chunk 19  rows=200000\n",
      "✓ chunk 20  rows=200000\n",
      "✓ chunk 21  rows=200000\n",
      "✓ chunk 22  rows=200000\n",
      "✓ chunk 23  rows=200000\n",
      "✓ chunk 24  rows=200000\n",
      "✓ chunk 25  rows=200000\n",
      "✓ chunk 26  rows=200000\n",
      "✓ chunk 27  rows=200000\n",
      "✓ chunk 28  rows=200000\n",
      "✓ chunk 29  rows=200000\n",
      "✓ chunk 30  rows=200000\n",
      "✓ chunk 31  rows=200000\n",
      "✓ chunk 32  rows=200000\n",
      "✓ chunk 33  rows=200000\n",
      "✓ chunk 34  rows=200000\n",
      "✓ chunk 35  rows=200000\n",
      "✓ chunk 36  rows=200000\n",
      "✓ chunk 37  rows=200000\n",
      "✓ chunk 38  rows=200000\n",
      "✓ chunk 39  rows=200000\n",
      "✓ chunk 40  rows=200000\n",
      "✓ chunk 41  rows=200000\n",
      "✓ chunk 42  rows=200000\n",
      "✓ chunk 43  rows=200000\n",
      "✓ chunk 44  rows=200000\n",
      "✓ chunk 45  rows=200000\n",
      "✓ chunk 46  rows=200000\n",
      "✓ chunk 47  rows=200000\n",
      "✓ chunk 48  rows=200000\n",
      "✓ chunk 49  rows=200000\n",
      "✓ chunk 50  rows=200000\n",
      "✓ chunk 51  rows=200000\n",
      "✓ chunk 52  rows=200000\n",
      "✓ chunk 53  rows=200000\n",
      "✓ chunk 54  rows=200000\n",
      "✓ chunk 55  rows=200000\n",
      "✓ chunk 56  rows=200000\n",
      "✓ chunk 57  rows=200000\n",
      "✓ chunk 58  rows=200000\n",
      "✓ chunk 59  rows=200000\n",
      "✓ chunk 60  rows=200000\n",
      "✓ chunk 61  rows=200000\n",
      "✓ chunk 62  rows=200000\n",
      "✓ chunk 63  rows=200000\n",
      "✓ chunk 64  rows=200000\n",
      "✓ chunk 65  rows=200000\n",
      "✓ chunk 66  rows=200000\n",
      "✓ chunk 67  rows=200000\n",
      "✓ chunk 68  rows=200000\n",
      "✓ chunk 69  rows=200000\n",
      "✓ chunk 70  rows=200000\n",
      "✓ chunk 71  rows=200000\n",
      "✓ chunk 72  rows=200000\n",
      "✓ chunk 73  rows=200000\n",
      "✓ chunk 74  rows=200000\n",
      "✓ chunk 75  rows=200000\n",
      "✓ chunk 76  rows=200000\n",
      "✓ chunk 77  rows=200000\n",
      "✓ chunk 78  rows=200000\n",
      "✓ chunk 79  rows=200000\n",
      "✓ chunk 80  rows=200000\n",
      "✓ chunk 81  rows=200000\n",
      "✓ chunk 82  rows=200000\n",
      "✓ chunk 83  rows=200000\n",
      "✓ chunk 84  rows=200000\n",
      "✓ chunk 85  rows=200000\n",
      "✓ chunk 86  rows=200000\n",
      "✓ chunk 87  rows=200000\n",
      "✓ chunk 88  rows=72787\n",
      "✅ All chunks processed – output at sent_scored.csv\n"
     ]
    }
   ],
   "source": [
    "IN_CSV   = \"joined_binned.csv\"\n",
    "OUT_CSV  = \"sent_scored.csv\"\n",
    "\n",
    "MODEL_ID = \"cardiffnlp/twitter-roberta-base-sentiment-latest\"\n",
    "LABEL2SCORE = {0: -1, 1: 0, 2: 1}\n",
    "CHUNK_ROWS = 200_000     \n",
    "BATCH = 64     \n",
    "DEVICE = \"cuda\" if torch.cuda.is_available() else \"cpu\"\n",
    "\n",
    "tok   = AutoTokenizer.from_pretrained(MODEL_ID)\n",
    "model = AutoModelForSequenceClassification.from_pretrained(MODEL_ID).to(DEVICE).eval()\n",
    "\n",
    "@torch.inference_mode()\n",
    "def bert_batch(texts):\n",
    "    enc = tok(texts, padding=True, truncation=True, max_length=128,\n",
    "              return_tensors=\"pt\").to(DEVICE)\n",
    "    preds = model(**enc).logits.argmax(-1).cpu().numpy()\n",
    "    return [LABEL2SCORE[int(p)] for p in preds]\n",
    "\n",
    "def score_chunk(pdf: pd.DataFrame) -> pd.DataFrame:\n",
    "    full = (pdf[\"review_title\"].fillna(\"\") + \". \" + pdf[\"review_text\"].fillna(\"\")).tolist()\n",
    "\n",
    "    scores = list(itertools.chain.from_iterable(\n",
    "        bert_batch(full[i:i+BATCH]) for i in range(0, len(full), BATCH)\n",
    "    ))\n",
    "    pdf[\"bert_score\"] = scores\n",
    "    return pdf\n",
    "\n",
    "if os.path.exists(OUT_CSV):\n",
    "    os.remove(OUT_CSV)\n",
    "\n",
    "for idx, chunk in enumerate(pd.read_csv(IN_CSV, chunksize=CHUNK_ROWS)):\n",
    "    scored = score_chunk(chunk)\n",
    "\n",
    "    mode = \"w\" if idx == 0 else \"a\"\n",
    "    header = (idx == 0)\n",
    "    scored.to_csv(OUT_CSV, mode=mode, index=False, header=header)\n",
    "    print(f\"✓ chunk {idx+1}  rows={len(scored)}\")\n",
    "\n",
    "print(\"All chunks processed – output at\", OUT_CSV)"
   ]
  },
  {
   "cell_type": "markdown",
   "id": "56b7eed0",
   "metadata": {},
   "source": [
    "Filtering data on the basis of year"
   ]
  },
  {
   "cell_type": "code",
   "execution_count": 4,
   "id": "2bc681a7",
   "metadata": {},
   "outputs": [
    {
     "data": {
      "text/html": [
       "<div><style>\n",
       ".dataframe > thead > tr,\n",
       ".dataframe > tbody > tr {\n",
       "  text-align: right;\n",
       "  white-space: pre-wrap;\n",
       "}\n",
       "</style>\n",
       "<small>shape: (5, 17)</small><table border=\"1\" class=\"dataframe\"><thead><tr><th>review_rating</th><th>review_title</th><th>review_text</th><th>parent_asin</th><th>timestamp</th><th>helpful_vote</th><th>main_category</th><th>product_title</th><th>product_average_rating</th><th>product_rating_number</th><th>store</th><th>Date First Available</th><th>sub_category</th><th>time_bin</th><th>year</th><th>month</th><th>bert_score</th></tr><tr><td>f64</td><td>str</td><td>str</td><td>str</td><td>str</td><td>i64</td><td>str</td><td>str</td><td>f64</td><td>i64</td><td>str</td><td>str</td><td>str</td><td>str</td><td>i64</td><td>i64</td><td>i64</td></tr></thead><tbody><tr><td>5.0</td><td>&quot;love it!&quot;</td><td>&quot;i have wanted a digital frame …</td><td>&quot;B00DYQQSSK&quot;</td><td>&quot;2014-01-01T00:00:28.000000&quot;</td><td>0</td><td>&quot;Camera &amp; Photo&quot;</td><td>&quot;NIX 12 inch Hi-Res Digital Pho…</td><td>4.3</td><td>1949</td><td>&quot;NIX&quot;</td><td>&quot;2013-07-16&quot;</td><td>&quot;Camera &amp; Photo&quot;</td><td>&quot;2014-01-01T00:00:00.000000&quot;</td><td>2014</td><td>1</td><td>1</td></tr><tr><td>5.0</td><td>&quot;kindle fast charge&quot;</td><td>&quot;this little 9w fast charge rea…</td><td>&quot;B006GWO5WK&quot;</td><td>&quot;2014-01-01T00:00:38.000000&quot;</td><td>0</td><td>&quot;Amazon Devices&quot;</td><td>&quot;Amazon Kindle 9W PowerFast Ada…</td><td>4.5</td><td>16780</td><td>&quot;Amazon&quot;</td><td>&quot;2012-08-07&quot;</td><td>&quot;Computers &amp; Accessories&quot;</td><td>&quot;2014-01-01T00:00:00.000000&quot;</td><td>2014</td><td>1</td><td>1</td></tr><tr><td>5.0</td><td>&quot;still reliable&quot;</td><td>&quot;just plug it in and don&#x27;t look…</td><td>&quot;B0019EHU8G&quot;</td><td>&quot;2014-01-01T00:00:42.000000&quot;</td><td>0</td><td>&quot;Home Audio &amp; Theater&quot;</td><td>&quot;Mediabridge™ HDMI Cable (6 Fee…</td><td>4.6</td><td>20201</td><td>&quot;Mediabridge&quot;</td><td>&quot;2008-05-23&quot;</td><td>&quot;Television &amp; Video&quot;</td><td>&quot;2014-01-01T00:00:00.000000&quot;</td><td>2014</td><td>1</td><td>1</td></tr><tr><td>5.0</td><td>&quot;really great!&quot;</td><td>&quot;bought for my wife as she love…</td><td>&quot;B00CKYVYI6&quot;</td><td>&quot;2014-01-01T00:02:09.000000&quot;</td><td>1</td><td>&quot;All Electronics&quot;</td><td>&quot;G-Project G-Boom Wireless Blue…</td><td>4.4</td><td>1679</td><td>&quot;G-Project&quot;</td><td>&quot;2013-04-29&quot;</td><td>&quot;Portable Audio &amp; Video&quot;</td><td>&quot;2014-01-01T00:00:00.000000&quot;</td><td>2014</td><td>1</td><td>1</td></tr><tr><td>5.0</td><td>&quot;works just like it should&quot;</td><td>&quot;fits a 96 ram 1500 perfect and…</td><td>&quot;B07C9X5RCT&quot;</td><td>&quot;2014-01-01T00:03:03.000000&quot;</td><td>0</td><td>&quot;Car Electronics&quot;</td><td>&quot;BOSS Audio Systems BRS69 120 W…</td><td>4.2</td><td>4145</td><td>&quot;BOSS Audio Systems&quot;</td><td>&quot;2008-10-23&quot;</td><td>&quot;Car &amp; Vehicle Electronics&quot;</td><td>&quot;2014-01-01T00:00:00.000000&quot;</td><td>2014</td><td>1</td><td>1</td></tr></tbody></table></div>"
      ],
      "text/plain": [
       "shape: (5, 17)\n",
       "┌─────────────┬─────────────┬────────────┬────────────┬───┬────────────┬──────┬───────┬────────────┐\n",
       "│ review_rati ┆ review_titl ┆ review_tex ┆ parent_asi ┆ … ┆ time_bin   ┆ year ┆ month ┆ bert_score │\n",
       "│ ng          ┆ e           ┆ t          ┆ n          ┆   ┆ ---        ┆ ---  ┆ ---   ┆ ---        │\n",
       "│ ---         ┆ ---         ┆ ---        ┆ ---        ┆   ┆ str        ┆ i64  ┆ i64   ┆ i64        │\n",
       "│ f64         ┆ str         ┆ str        ┆ str        ┆   ┆            ┆      ┆       ┆            │\n",
       "╞═════════════╪═════════════╪════════════╪════════════╪═══╪════════════╪══════╪═══════╪════════════╡\n",
       "│ 5.0         ┆ love it!    ┆ i have     ┆ B00DYQQSSK ┆ … ┆ 2014-01-01 ┆ 2014 ┆ 1     ┆ 1          │\n",
       "│             ┆             ┆ wanted a   ┆            ┆   ┆ T00:00:00. ┆      ┆       ┆            │\n",
       "│             ┆             ┆ digital    ┆            ┆   ┆ 000000     ┆      ┆       ┆            │\n",
       "│             ┆             ┆ frame …    ┆            ┆   ┆            ┆      ┆       ┆            │\n",
       "│ 5.0         ┆ kindle fast ┆ this       ┆ B006GWO5WK ┆ … ┆ 2014-01-01 ┆ 2014 ┆ 1     ┆ 1          │\n",
       "│             ┆ charge      ┆ little 9w  ┆            ┆   ┆ T00:00:00. ┆      ┆       ┆            │\n",
       "│             ┆             ┆ fast       ┆            ┆   ┆ 000000     ┆      ┆       ┆            │\n",
       "│             ┆             ┆ charge     ┆            ┆   ┆            ┆      ┆       ┆            │\n",
       "│             ┆             ┆ rea…       ┆            ┆   ┆            ┆      ┆       ┆            │\n",
       "│ 5.0         ┆ still       ┆ just plug  ┆ B0019EHU8G ┆ … ┆ 2014-01-01 ┆ 2014 ┆ 1     ┆ 1          │\n",
       "│             ┆ reliable    ┆ it in and  ┆            ┆   ┆ T00:00:00. ┆      ┆       ┆            │\n",
       "│             ┆             ┆ don't      ┆            ┆   ┆ 000000     ┆      ┆       ┆            │\n",
       "│             ┆             ┆ look…      ┆            ┆   ┆            ┆      ┆       ┆            │\n",
       "│ 5.0         ┆ really      ┆ bought for ┆ B00CKYVYI6 ┆ … ┆ 2014-01-01 ┆ 2014 ┆ 1     ┆ 1          │\n",
       "│             ┆ great!      ┆ my wife as ┆            ┆   ┆ T00:00:00. ┆      ┆       ┆            │\n",
       "│             ┆             ┆ she love…  ┆            ┆   ┆ 000000     ┆      ┆       ┆            │\n",
       "│ 5.0         ┆ works just  ┆ fits a 96  ┆ B07C9X5RCT ┆ … ┆ 2014-01-01 ┆ 2014 ┆ 1     ┆ 1          │\n",
       "│             ┆ like it     ┆ ram 1500   ┆            ┆   ┆ T00:00:00. ┆      ┆       ┆            │\n",
       "│             ┆ should      ┆ perfect    ┆            ┆   ┆ 000000     ┆      ┆       ┆            │\n",
       "│             ┆             ┆ and…       ┆            ┆   ┆            ┆      ┆       ┆            │\n",
       "└─────────────┴─────────────┴────────────┴────────────┴───┴────────────┴──────┴───────┴────────────┘"
      ]
     },
     "execution_count": 4,
     "metadata": {},
     "output_type": "execute_result"
    }
   ],
   "source": [
    "score_df = pl.read_csv('sent_scored.csv')\n",
    "score_df.head()"
   ]
  },
  {
   "cell_type": "code",
   "execution_count": 6,
   "id": "b8bc17fa",
   "metadata": {},
   "outputs": [
    {
     "name": "stdout",
     "output_type": "stream",
     "text": [
      "shape: (3, 2)\n",
      "┌────────────┬──────────┐\n",
      "│ bert_score ┆ count    │\n",
      "│ ---        ┆ ---      │\n",
      "│ i64        ┆ u32      │\n",
      "╞════════════╪══════════╡\n",
      "│ 1          ┆ 12776520 │\n",
      "│ 0          ┆ 1271285  │\n",
      "│ -1         ┆ 3424982  │\n",
      "└────────────┴──────────┘\n"
     ]
    },
    {
     "name": "stderr",
     "output_type": "stream",
     "text": [
      "C:\\Users\\saarthak\\AppData\\Local\\Temp\\ipykernel_20064\\3407887002.py:4: DeprecationWarning: `GroupBy.count` is deprecated. It has been renamed to `len`.\n",
      "  .count()\n"
     ]
    }
   ],
   "source": [
    "counts = (\n",
    "    score_df\n",
    "    .group_by(\"bert_score\")\n",
    "    .count()\n",
    "    .sort(\"bert_score\", descending=True)    \n",
    ")\n",
    "\n",
    "print(counts)"
   ]
  },
  {
   "cell_type": "code",
   "execution_count": 1,
   "id": "2a0445b8",
   "metadata": {},
   "outputs": [],
   "source": [
    "df = pl.read_csv('sent_scored.csv')"
   ]
  },
  {
   "cell_type": "code",
   "execution_count": 2,
   "id": "0c6578cc",
   "metadata": {},
   "outputs": [],
   "source": [
    "df = df.with_columns(\n",
    "    pl.col(\"Date First Available\").str.strptime(pl.Date, strict=False)\n",
    ")"
   ]
  },
  {
   "cell_type": "code",
   "execution_count": 3,
   "id": "dc558a74",
   "metadata": {},
   "outputs": [],
   "source": [
    "filteredf = df.filter(\n",
    "    pl.col(\"Date First Available\").dt.year() >= 2014\n",
    ")"
   ]
  },
  {
   "cell_type": "code",
   "execution_count": 4,
   "id": "34436500",
   "metadata": {},
   "outputs": [],
   "source": [
    "filteredf = filteredf.drop('time_bin')"
   ]
  },
  {
   "cell_type": "code",
   "execution_count": 5,
   "id": "5a8d4452",
   "metadata": {},
   "outputs": [
    {
     "data": {
      "text/html": [
       "<div><style>\n",
       ".dataframe > thead > tr,\n",
       ".dataframe > tbody > tr {\n",
       "  text-align: right;\n",
       "  white-space: pre-wrap;\n",
       "}\n",
       "</style>\n",
       "<small>shape: (5, 16)</small><table border=\"1\" class=\"dataframe\"><thead><tr><th>review_rating</th><th>review_title</th><th>review_text</th><th>parent_asin</th><th>timestamp</th><th>helpful_vote</th><th>main_category</th><th>product_title</th><th>product_average_rating</th><th>product_rating_number</th><th>store</th><th>Date First Available</th><th>sub_category</th><th>year</th><th>month</th><th>bert_score</th></tr><tr><td>f64</td><td>str</td><td>str</td><td>str</td><td>str</td><td>i64</td><td>str</td><td>str</td><td>f64</td><td>i64</td><td>str</td><td>date</td><td>str</td><td>i64</td><td>i64</td><td>i64</td></tr></thead><tbody><tr><td>4.0</td><td>&quot;great for traveling&quot;</td><td>&quot;for what i am using it for, it…</td><td>&quot;B00G3788AS&quot;</td><td>&quot;2014-01-01T00:06:33.000000&quot;</td><td>2</td><td>&quot;Computers&quot;</td><td>&quot;Dell Venue 8 Pro 5000 Series 3…</td><td>4.0</td><td>2195</td><td>&quot;Dell&quot;</td><td>2017-06-28</td><td>&quot;Computers &amp; Accessories&quot;</td><td>2014</td><td>1</td><td>1</td></tr><tr><td>5.0</td><td>&quot;perfect&quot;</td><td>&quot;works perfectly with bluetooth…</td><td>&quot;B077Y93YRR&quot;</td><td>&quot;2014-01-01T00:10:46.000000&quot;</td><td>0</td><td>&quot;Home Audio &amp; Theater&quot;</td><td>&quot;JAM Classic Wireless Bluetooth…</td><td>4.2</td><td>7537</td><td>&quot;Jam&quot;</td><td>2014-05-01</td><td>&quot;Portable Audio &amp; Video&quot;</td><td>2014</td><td>1</td><td>1</td></tr><tr><td>5.0</td><td>&quot;working perfect&quot;</td><td>&quot;working perfectly with my sams…</td><td>&quot;B07SDH2Z56&quot;</td><td>&quot;2014-01-01T00:16:07.000000&quot;</td><td>0</td><td>&quot;Home Audio &amp; Theater&quot;</td><td>&quot;C&amp;E High Speed HDMI Cable with…</td><td>4.6</td><td>4012</td><td>&quot;C&amp;E&quot;</td><td>2015-04-01</td><td>&quot;Television &amp; Video&quot;</td><td>2014</td><td>1</td><td>1</td></tr><tr><td>5.0</td><td>&quot;great to have for less than pe…</td><td>&quot;my son does a lot of outdoor p…</td><td>&quot;B0B11GNM6K&quot;</td><td>&quot;2014-01-01T00:16:53.000000&quot;</td><td>0</td><td>&quot;Camera &amp; Photo&quot;</td><td>&quot;OpTech USA | Rainsleeve Series…</td><td>4.4</td><td>2627</td><td>&quot;OP/TECH USA&quot;</td><td>2015-06-18</td><td>&quot;Camera &amp; Photo&quot;</td><td>2014</td><td>1</td><td>1</td></tr><tr><td>4.0</td><td>&quot;hard to get on&quot;</td><td>&quot;boy this thing is a tight fit!…</td><td>&quot;B00GXUZA4M&quot;</td><td>&quot;2014-01-01T00:17:19.000000&quot;</td><td>0</td><td>&quot;Home Audio &amp; Theater&quot;</td><td>&quot;Bose SoundLink Mini Soft Cover…</td><td>4.6</td><td>3273</td><td>&quot;Bose&quot;</td><td>2015-06-21</td><td>&quot;Portable Audio &amp; Video&quot;</td><td>2014</td><td>1</td><td>1</td></tr></tbody></table></div>"
      ],
      "text/plain": [
       "shape: (5, 16)\n",
       "┌─────────────┬─────────────┬────────────┬────────────┬───┬────────────┬──────┬───────┬────────────┐\n",
       "│ review_rati ┆ review_titl ┆ review_tex ┆ parent_asi ┆ … ┆ sub_catego ┆ year ┆ month ┆ bert_score │\n",
       "│ ng          ┆ e           ┆ t          ┆ n          ┆   ┆ ry         ┆ ---  ┆ ---   ┆ ---        │\n",
       "│ ---         ┆ ---         ┆ ---        ┆ ---        ┆   ┆ ---        ┆ i64  ┆ i64   ┆ i64        │\n",
       "│ f64         ┆ str         ┆ str        ┆ str        ┆   ┆ str        ┆      ┆       ┆            │\n",
       "╞═════════════╪═════════════╪════════════╪════════════╪═══╪════════════╪══════╪═══════╪════════════╡\n",
       "│ 4.0         ┆ great for   ┆ for what i ┆ B00G3788AS ┆ … ┆ Computers  ┆ 2014 ┆ 1     ┆ 1          │\n",
       "│             ┆ traveling   ┆ am using   ┆            ┆   ┆ & Accessor ┆      ┆       ┆            │\n",
       "│             ┆             ┆ it for,    ┆            ┆   ┆ ies        ┆      ┆       ┆            │\n",
       "│             ┆             ┆ it…        ┆            ┆   ┆            ┆      ┆       ┆            │\n",
       "│ 5.0         ┆ perfect     ┆ works      ┆ B077Y93YRR ┆ … ┆ Portable   ┆ 2014 ┆ 1     ┆ 1          │\n",
       "│             ┆             ┆ perfectly  ┆            ┆   ┆ Audio &    ┆      ┆       ┆            │\n",
       "│             ┆             ┆ with       ┆            ┆   ┆ Video      ┆      ┆       ┆            │\n",
       "│             ┆             ┆ bluetooth… ┆            ┆   ┆            ┆      ┆       ┆            │\n",
       "│ 5.0         ┆ working     ┆ working    ┆ B07SDH2Z56 ┆ … ┆ Television ┆ 2014 ┆ 1     ┆ 1          │\n",
       "│             ┆ perfect     ┆ perfectly  ┆            ┆   ┆ & Video    ┆      ┆       ┆            │\n",
       "│             ┆             ┆ with my    ┆            ┆   ┆            ┆      ┆       ┆            │\n",
       "│             ┆             ┆ sams…      ┆            ┆   ┆            ┆      ┆       ┆            │\n",
       "│ 5.0         ┆ great to    ┆ my son     ┆ B0B11GNM6K ┆ … ┆ Camera &   ┆ 2014 ┆ 1     ┆ 1          │\n",
       "│             ┆ have for    ┆ does a lot ┆            ┆   ┆ Photo      ┆      ┆       ┆            │\n",
       "│             ┆ less than   ┆ of outdoor ┆            ┆   ┆            ┆      ┆       ┆            │\n",
       "│             ┆ pe…         ┆ p…         ┆            ┆   ┆            ┆      ┆       ┆            │\n",
       "│ 4.0         ┆ hard to get ┆ boy this   ┆ B00GXUZA4M ┆ … ┆ Portable   ┆ 2014 ┆ 1     ┆ 1          │\n",
       "│             ┆ on          ┆ thing is a ┆            ┆   ┆ Audio &    ┆      ┆       ┆            │\n",
       "│             ┆             ┆ tight      ┆            ┆   ┆ Video      ┆      ┆       ┆            │\n",
       "│             ┆             ┆ fit!…      ┆            ┆   ┆            ┆      ┆       ┆            │\n",
       "└─────────────┴─────────────┴────────────┴────────────┴───┴────────────┴──────┴───────┴────────────┘"
      ]
     },
     "execution_count": 5,
     "metadata": {},
     "output_type": "execute_result"
    }
   ],
   "source": [
    "filteredf.head()"
   ]
  },
  {
   "cell_type": "code",
   "execution_count": 7,
   "id": "82c5bffc",
   "metadata": {},
   "outputs": [],
   "source": [
    "filteredf = filteredf.drop_nulls()"
   ]
  },
  {
   "cell_type": "code",
   "execution_count": 8,
   "id": "7330d675",
   "metadata": {},
   "outputs": [
    {
     "data": {
      "text/html": [
       "<div><style>\n",
       ".dataframe > thead > tr,\n",
       ".dataframe > tbody > tr {\n",
       "  text-align: right;\n",
       "  white-space: pre-wrap;\n",
       "}\n",
       "</style>\n",
       "<small>shape: (1, 16)</small><table border=\"1\" class=\"dataframe\"><thead><tr><th>review_rating</th><th>review_title</th><th>review_text</th><th>parent_asin</th><th>timestamp</th><th>helpful_vote</th><th>main_category</th><th>product_title</th><th>product_average_rating</th><th>product_rating_number</th><th>store</th><th>Date First Available</th><th>sub_category</th><th>year</th><th>month</th><th>bert_score</th></tr><tr><td>u32</td><td>u32</td><td>u32</td><td>u32</td><td>u32</td><td>u32</td><td>u32</td><td>u32</td><td>u32</td><td>u32</td><td>u32</td><td>u32</td><td>u32</td><td>u32</td><td>u32</td><td>u32</td></tr></thead><tbody><tr><td>0</td><td>0</td><td>0</td><td>0</td><td>0</td><td>0</td><td>0</td><td>0</td><td>0</td><td>0</td><td>0</td><td>0</td><td>0</td><td>0</td><td>0</td><td>0</td></tr></tbody></table></div>"
      ],
      "text/plain": [
       "shape: (1, 16)\n",
       "┌─────────────┬─────────────┬────────────┬────────────┬───┬────────────┬──────┬───────┬────────────┐\n",
       "│ review_rati ┆ review_titl ┆ review_tex ┆ parent_asi ┆ … ┆ sub_catego ┆ year ┆ month ┆ bert_score │\n",
       "│ ng          ┆ e           ┆ t          ┆ n          ┆   ┆ ry         ┆ ---  ┆ ---   ┆ ---        │\n",
       "│ ---         ┆ ---         ┆ ---        ┆ ---        ┆   ┆ ---        ┆ u32  ┆ u32   ┆ u32        │\n",
       "│ u32         ┆ u32         ┆ u32        ┆ u32        ┆   ┆ u32        ┆      ┆       ┆            │\n",
       "╞═════════════╪═════════════╪════════════╪════════════╪═══╪════════════╪══════╪═══════╪════════════╡\n",
       "│ 0           ┆ 0           ┆ 0          ┆ 0          ┆ … ┆ 0          ┆ 0    ┆ 0     ┆ 0          │\n",
       "└─────────────┴─────────────┴────────────┴────────────┴───┴────────────┴──────┴───────┴────────────┘"
      ]
     },
     "execution_count": 8,
     "metadata": {},
     "output_type": "execute_result"
    }
   ],
   "source": [
    "filteredf.null_count()"
   ]
  },
  {
   "cell_type": "markdown",
   "id": "14ec9798",
   "metadata": {},
   "source": [
    "Considering only 3 main categories"
   ]
  },
  {
   "cell_type": "code",
   "execution_count": null,
   "id": "d162e3e7",
   "metadata": {},
   "outputs": [
    {
     "name": "stderr",
     "output_type": "stream",
     "text": [
      "C:\\Users\\saarthak\\AppData\\Local\\Temp\\ipykernel_21312\\258961606.py:20: DeprecationWarning: `is_in` with a collection of the same datatype is ambiguous and deprecated.\n",
      "Please use `implode` to return to previous behavior.\n",
      "\n",
      "See https://github.com/pola-rs/polars/issues/22149 for more information.\n",
      "  updated_df = filteredf.with_columns([\n"
     ]
    }
   ],
   "source": [
    "filteredf = filteredf.with_columns([\n",
    "    pl.col(\"main_category\").str.strip_chars('\"').alias(\"main_category\"),\n",
    "    pl.col(\"sub_category\").str.strip_chars('\"').alias(\"sub_category\")\n",
    "])\n",
    "\n",
    "all_elec_subs = (\n",
    "    filteredf\n",
    "    .filter(pl.col(\"main_category\") == \"All Electronics\")\n",
    "    .select(\"sub_category\")\n",
    "    .unique()\n",
    "    .get_column(\"sub_category\")\n",
    ")\n",
    "\n",
    "updated_df = filteredf.with_columns([\n",
    "    pl.when(pl.col(\"sub_category\").is_in(all_elec_subs))\n",
    "      .then(pl.lit(\"All Electronics\"))\n",
    "      .otherwise(pl.col(\"main_category\"))\n",
    "      .alias(\"main_category_updated\")\n",
    "])\n",
    "\n",
    "updated_df = updated_df.drop(\"main_category\").rename({\"main_category_updated\": \"main_category\"})"
   ]
  },
  {
   "cell_type": "code",
   "execution_count": 14,
   "id": "76bba2fd",
   "metadata": {},
   "outputs": [
    {
     "name": "stdout",
     "output_type": "stream",
     "text": [
      "Original count: 14265559\n",
      "Updated count: 14265559\n"
     ]
    }
   ],
   "source": [
    "print(\"Original count:\", filteredf.shape[0])\n",
    "print(\"Updated count:\", updated_df.shape[0])"
   ]
  },
  {
   "cell_type": "code",
   "execution_count": 11,
   "id": "4e1b43bd",
   "metadata": {},
   "outputs": [
    {
     "name": "stderr",
     "output_type": "stream",
     "text": [
      "C:\\Users\\saarthak\\AppData\\Local\\Temp\\ipykernel_21312\\1312656723.py:16: DeprecationWarning: `is_in` with a collection of the same datatype is ambiguous and deprecated.\n",
      "Please use `implode` to return to previous behavior.\n",
      "\n",
      "See https://github.com/pola-rs/polars/issues/22149 for more information.\n",
      "  .filter(~pl.col(\"sub_category\").is_in(all_elec_subs))\n",
      "C:\\Users\\saarthak\\AppData\\Local\\Temp\\ipykernel_21312\\1312656723.py:21: DeprecationWarning: `is_in` with a collection of the same datatype is ambiguous and deprecated.\n",
      "Please use `implode` to return to previous behavior.\n",
      "\n",
      "See https://github.com/pola-rs/polars/issues/22149 for more information.\n",
      "  updated_df = updated_df.with_columns([\n"
     ]
    }
   ],
   "source": [
    "all_elec_subs = (\n",
    "    updated_df\n",
    "    .filter(pl.col(\"main_category\") == \"All Electronics\")\n",
    "    .select(\"sub_category\")\n",
    "    .unique()\n",
    "    .get_column(\"sub_category\")\n",
    ")\n",
    "\n",
    "computer_subs = (\n",
    "    updated_df\n",
    "    .filter(pl.col(\"main_category\") == \"Computers\")\n",
    "    .select(\"sub_category\")\n",
    "    .unique()\n",
    "    .filter(~pl.col(\"sub_category\").is_in(all_elec_subs))\n",
    "    .get_column(\"sub_category\")\n",
    ")\n",
    "\n",
    "updated_df = updated_df.with_columns([\n",
    "    pl.when(\n",
    "        (pl.col(\"main_category\") != \"All Electronics\") &\n",
    "        (pl.col(\"sub_category\").is_in(computer_subs))\n",
    "    )\n",
    "    .then(pl.lit(\"Computers\"))\n",
    "    .otherwise(pl.col(\"main_category\"))\n",
    "    .alias(\"main_category\")\n",
    "])\n"
   ]
  },
  {
   "cell_type": "code",
   "execution_count": 13,
   "id": "a89288d3",
   "metadata": {},
   "outputs": [
    {
     "name": "stderr",
     "output_type": "stream",
     "text": [
      "C:\\Users\\saarthak\\AppData\\Local\\Temp\\ipykernel_21312\\2759047172.py:10: DeprecationWarning: `is_in` with a collection of the same datatype is ambiguous and deprecated.\n",
      "Please use `implode` to return to previous behavior.\n",
      "\n",
      "See https://github.com/pola-rs/polars/issues/22149 for more information.\n",
      "  .filter(~pl.col(\"sub_category\").is_in(used_subs))\n",
      "C:\\Users\\saarthak\\AppData\\Local\\Temp\\ipykernel_21312\\2759047172.py:15: DeprecationWarning: `is_in` with a collection of the same datatype is ambiguous and deprecated.\n",
      "Please use `implode` to return to previous behavior.\n",
      "\n",
      "See https://github.com/pola-rs/polars/issues/22149 for more information.\n",
      "  updated_df = updated_df.with_columns([\n"
     ]
    }
   ],
   "source": [
    "used_subs = updated_df.filter(\n",
    "    pl.col(\"main_category\").is_in([\"All Electronics\", \"Computers\"])\n",
    ").select(\"sub_category\").unique().get_column(\"sub_category\")\n",
    "\n",
    "cell_phone_subs = (\n",
    "    updated_df.filter(pl.col(\"main_category\") == \"Cell Phones & Accessories\")\n",
    "    .select(\"sub_category\").unique()\n",
    "    .filter(~pl.col(\"sub_category\").is_in(used_subs))\n",
    "    .get_column(\"sub_category\")\n",
    ")\n",
    "\n",
    "updated_df = updated_df.with_columns([\n",
    "    pl.when(\n",
    "        (~pl.col(\"main_category\").is_in([\"All Electronics\", \"Computers\"])) &\n",
    "        (pl.col(\"sub_category\").is_in(cell_phone_subs))\n",
    "    )\n",
    "    .then(pl.lit(\"Cell Phones & Accessories\"))\n",
    "    .otherwise(pl.col(\"main_category\"))\n",
    "    .alias(\"main_category\")\n",
    "])\n"
   ]
  },
  {
   "cell_type": "code",
   "execution_count": 15,
   "id": "88644d7d",
   "metadata": {},
   "outputs": [],
   "source": [
    "final_df = updated_df.filter(\n",
    "    pl.col(\"main_category\").is_in([\"All Electronics\", \"Computers\", \"Cell Phones & Accessories\"])\n",
    ")"
   ]
  },
  {
   "cell_type": "code",
   "execution_count": 18,
   "id": "639dbadb",
   "metadata": {},
   "outputs": [
    {
     "name": "stdout",
     "output_type": "stream",
     "text": [
      "shape: (3, 2)\n",
      "┌───────────────────────────┬─────────┐\n",
      "│ main_category             ┆ count   │\n",
      "│ ---                       ┆ ---     │\n",
      "│ str                       ┆ u32     │\n",
      "╞═══════════════════════════╪═════════╡\n",
      "│ Cell Phones & Accessories ┆ 75212   │\n",
      "│ All Electronics           ┆ 7379117 │\n",
      "│ Computers                 ┆ 6791234 │\n",
      "└───────────────────────────┴─────────┘\n",
      "Final row count: 14245563\n"
     ]
    },
    {
     "name": "stderr",
     "output_type": "stream",
     "text": [
      "C:\\Users\\saarthak\\AppData\\Local\\Temp\\ipykernel_21312\\1567819490.py:1: DeprecationWarning: `GroupBy.count` is deprecated. It has been renamed to `len`.\n",
      "  print(final_df.group_by(\"main_category\").count())\n"
     ]
    }
   ],
   "source": [
    "print(final_df.group_by(\"main_category\").count())\n",
    "print(\"Final row count:\", final_df.shape[0])"
   ]
  },
  {
   "cell_type": "code",
   "execution_count": 17,
   "id": "cd9e6c94",
   "metadata": {},
   "outputs": [],
   "source": [
    "final_df = final_df.with_columns([\n",
    "    pl.when(\n",
    "        (pl.col(\"main_category\") == \"All Electronics\") &\n",
    "        (pl.col(\"sub_category\") == \"Computers & Accessories\")\n",
    "    )\n",
    "    .then(pl.lit(\"Computers\"))\n",
    "    .otherwise(pl.col(\"main_category\"))\n",
    "    .alias(\"main_category\")\n",
    "])"
   ]
  },
  {
   "cell_type": "code",
   "execution_count": 19,
   "id": "689f7bda",
   "metadata": {},
   "outputs": [
    {
     "name": "stdout",
     "output_type": "stream",
     "text": [
      "shape: (48, 3)\n",
      "┌───────────────────────────┬─────────────────────────────────┬───────────────────┐\n",
      "│ main_category             ┆ sub_category                    ┆ review_text_count │\n",
      "│ ---                       ┆ ---                             ┆ ---               │\n",
      "│ str                       ┆ str                             ┆ u32               │\n",
      "╞═══════════════════════════╪═════════════════════════════════╪═══════════════════╡\n",
      "│ Cell Phones & Accessories ┆ Electronics Gift Guide - Top T… ┆ 49068             │\n",
      "│ Cell Phones & Accessories ┆ Featured iPad Accessories       ┆ 239               │\n",
      "│ All Electronics           ┆ Electronics Warranties          ┆ 82545             │\n",
      "│ All Electronics           ┆ SkullcandyHeadphones            ┆ 23                │\n",
      "│ All Electronics           ┆ Headphones, Earbuds & Accessor… ┆ 1936517           │\n",
      "│ …                         ┆ …                               ┆ …                 │\n",
      "│ Computers                 ┆ PC Gaming & Accessories         ┆ 387               │\n",
      "│ All Electronics           ┆ Vehicle Electronics Accessorie… ┆ 14456             │\n",
      "│ Cell Phones & Accessories ┆ Select Favorites in Computer A… ┆ 13019             │\n",
      "│ All Electronics           ┆ Accessories & Supplies          ┆ 492679            │\n",
      "│ All Electronics           ┆ Home Audio                      ┆ 542174            │\n",
      "└───────────────────────────┴─────────────────────────────────┴───────────────────┘\n"
     ]
    }
   ],
   "source": [
    "review_counts = final_df.group_by([\"main_category\", \"sub_category\"]).agg(\n",
    "    pl.count(\"review_text\").alias(\"review_text_count\")\n",
    ")\n",
    "\n",
    "print(review_counts)"
   ]
  },
  {
   "cell_type": "code",
   "execution_count": 20,
   "id": "d066b776",
   "metadata": {},
   "outputs": [],
   "source": [
    "review_counts.write_csv('cou.csv')"
   ]
  },
  {
   "cell_type": "code",
   "execution_count": 30,
   "id": "2609b25c",
   "metadata": {},
   "outputs": [
    {
     "name": "stderr",
     "output_type": "stream",
     "text": [
      "C:\\Users\\saarthak\\AppData\\Local\\Temp\\ipykernel_20600\\1283152737.py:22: DeprecationWarning: `is_in` with a collection of the same datatype is ambiguous and deprecated.\n",
      "Please use `implode` to return to previous behavior.\n",
      "\n",
      "See https://github.com/pola-rs/polars/issues/22149 for more information.\n",
      "  final_df = final_df.filter(\n"
     ]
    }
   ],
   "source": [
    "low_all_elec = (\n",
    "    review_counts.filter(\n",
    "        (pl.col(\"main_category\") == \"All Electronics\") & \n",
    "        (pl.col(\"review_text_count\") < 5000)\n",
    "    )\n",
    "    .select(\"sub_category\")\n",
    "    .to_series()\n",
    ")\n",
    "\n",
    "low_computers = (\n",
    "    review_counts.filter(\n",
    "        (pl.col(\"main_category\") == \"Computers\") & \n",
    "        (pl.col(\"review_text_count\") < 3350)\n",
    "    )\n",
    "    .select(\"sub_category\")\n",
    "    .to_series()\n",
    ")\n",
    "\n",
    "final_df = final_df.filter(\n",
    "    ~(\n",
    "        ((pl.col(\"main_category\") == \"All Electronics\") & pl.col(\"sub_category\").is_in(low_all_elec)) |\n",
    "        ((pl.col(\"main_category\") == \"Computers\") & pl.col(\"sub_category\").is_in(low_computers))\n",
    "    )\n",
    ")"
   ]
  },
  {
   "cell_type": "code",
   "execution_count": 22,
   "id": "0f87e886",
   "metadata": {},
   "outputs": [],
   "source": [
    "final_df.write_parquet('2014_data.parquet')"
   ]
  }
 ],
 "metadata": {
  "kernelspec": {
   "display_name": "base",
   "language": "python",
   "name": "python3"
  },
  "language_info": {
   "codemirror_mode": {
    "name": "ipython",
    "version": 3
   },
   "file_extension": ".py",
   "mimetype": "text/x-python",
   "name": "python",
   "nbconvert_exporter": "python",
   "pygments_lexer": "ipython3",
   "version": "3.11.5"
  }
 },
 "nbformat": 4,
 "nbformat_minor": 5
}
